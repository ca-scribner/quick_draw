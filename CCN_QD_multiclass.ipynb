{
  "nbformat": 4,
  "nbformat_minor": 0,
  "metadata": {
    "colab": {
      "name": "CCN_QD_multiclass",
      "version": "0.3.2",
      "provenance": [],
      "collapsed_sections": [],
      "include_colab_link": true
    },
    "kernelspec": {
      "name": "python3",
      "display_name": "Python 3"
    },
    "accelerator": "GPU"
  },
  "cells": [
    {
      "cell_type": "markdown",
      "metadata": {
        "id": "view-in-github",
        "colab_type": "text"
      },
      "source": [
        "<a href=\"https://colab.research.google.com/github/ca-scribner/quick_draw/blob/master/CCN_QD_multiclass.ipynb\" target=\"_parent\"><img src=\"https://colab.research.google.com/assets/colab-badge.svg\" alt=\"Open In Colab\"/></a>"
      ]
    },
    {
      "cell_type": "markdown",
      "metadata": {
        "id": "n9SxIDwHNYsN",
        "colab_type": "text"
      },
      "source": [
        "# Install and load necessary packages"
      ]
    },
    {
      "cell_type": "code",
      "metadata": {
        "id": "TlZU6pjc9dXs",
        "colab_type": "code",
        "outputId": "e6ebdc3f-5589-4b9a-ebef-16fb4bc350c6",
        "colab": {
          "base_uri": "https://localhost:8080/",
          "height": 357
        }
      },
      "source": [
        "!pip install tensorflow-gpu==2.0.0-beta1"
      ],
      "execution_count": 1,
      "outputs": [
        {
          "output_type": "stream",
          "text": [
            "Requirement already satisfied: tensorflow-gpu==2.0.0-beta1 in /usr/local/lib/python3.6/dist-packages (2.0.0b1)\n",
            "Requirement already satisfied: termcolor>=1.1.0 in /usr/local/lib/python3.6/dist-packages (from tensorflow-gpu==2.0.0-beta1) (1.1.0)\n",
            "Requirement already satisfied: tf-estimator-nightly<1.14.0.dev2019060502,>=1.14.0.dev2019060501 in /usr/local/lib/python3.6/dist-packages (from tensorflow-gpu==2.0.0-beta1) (1.14.0.dev2019060501)\n",
            "Requirement already satisfied: absl-py>=0.7.0 in /usr/local/lib/python3.6/dist-packages (from tensorflow-gpu==2.0.0-beta1) (0.7.1)\n",
            "Requirement already satisfied: astor>=0.6.0 in /usr/local/lib/python3.6/dist-packages (from tensorflow-gpu==2.0.0-beta1) (0.8.0)\n",
            "Requirement already satisfied: numpy<2.0,>=1.14.5 in /usr/local/lib/python3.6/dist-packages (from tensorflow-gpu==2.0.0-beta1) (1.16.4)\n",
            "Requirement already satisfied: keras-applications>=1.0.6 in /usr/local/lib/python3.6/dist-packages (from tensorflow-gpu==2.0.0-beta1) (1.0.8)\n",
            "Requirement already satisfied: protobuf>=3.6.1 in /usr/local/lib/python3.6/dist-packages (from tensorflow-gpu==2.0.0-beta1) (3.7.1)\n",
            "Requirement already satisfied: tb-nightly<1.14.0a20190604,>=1.14.0a20190603 in /usr/local/lib/python3.6/dist-packages (from tensorflow-gpu==2.0.0-beta1) (1.14.0a20190603)\n",
            "Requirement already satisfied: wheel>=0.26 in /usr/local/lib/python3.6/dist-packages (from tensorflow-gpu==2.0.0-beta1) (0.33.4)\n",
            "Requirement already satisfied: wrapt>=1.11.1 in /usr/local/lib/python3.6/dist-packages (from tensorflow-gpu==2.0.0-beta1) (1.11.2)\n",
            "Requirement already satisfied: six>=1.10.0 in /usr/local/lib/python3.6/dist-packages (from tensorflow-gpu==2.0.0-beta1) (1.12.0)\n",
            "Requirement already satisfied: grpcio>=1.8.6 in /usr/local/lib/python3.6/dist-packages (from tensorflow-gpu==2.0.0-beta1) (1.15.0)\n",
            "Requirement already satisfied: gast>=0.2.0 in /usr/local/lib/python3.6/dist-packages (from tensorflow-gpu==2.0.0-beta1) (0.2.2)\n",
            "Requirement already satisfied: keras-preprocessing>=1.0.5 in /usr/local/lib/python3.6/dist-packages (from tensorflow-gpu==2.0.0-beta1) (1.1.0)\n",
            "Requirement already satisfied: google-pasta>=0.1.6 in /usr/local/lib/python3.6/dist-packages (from tensorflow-gpu==2.0.0-beta1) (0.1.7)\n",
            "Requirement already satisfied: h5py in /usr/local/lib/python3.6/dist-packages (from keras-applications>=1.0.6->tensorflow-gpu==2.0.0-beta1) (2.8.0)\n",
            "Requirement already satisfied: setuptools in /usr/local/lib/python3.6/dist-packages (from protobuf>=3.6.1->tensorflow-gpu==2.0.0-beta1) (41.0.1)\n",
            "Requirement already satisfied: werkzeug>=0.11.15 in /usr/local/lib/python3.6/dist-packages (from tb-nightly<1.14.0a20190604,>=1.14.0a20190603->tensorflow-gpu==2.0.0-beta1) (0.15.4)\n",
            "Requirement already satisfied: markdown>=2.6.8 in /usr/local/lib/python3.6/dist-packages (from tb-nightly<1.14.0a20190604,>=1.14.0a20190603->tensorflow-gpu==2.0.0-beta1) (3.1.1)\n"
          ],
          "name": "stdout"
        }
      ]
    },
    {
      "cell_type": "code",
      "metadata": {
        "id": "KLtqVHuE-b3x",
        "colab_type": "code",
        "outputId": "39a18c53-cf20-4fa4-8b37-bc9962799e7d",
        "colab": {
          "base_uri": "https://localhost:8080/",
          "height": 71
        }
      },
      "source": [
        "import tensorflow as tf\n",
        "tf.executing_eagerly()\n",
        "\n",
        "import math\n",
        "import matplotlib.pyplot as plt\n",
        "import numpy as np\n",
        "import pandas as pd\n",
        "import os\n",
        "import time\n",
        "\n",
        "from sklearn.model_selection import train_test_split, GridSearchCV\n",
        "from sklearn.externals import joblib\n",
        "from sklearn.metrics import confusion_matrix, classification_report\n",
        "from sklearn.utils.multiclass import unique_labels\n"
      ],
      "execution_count": 2,
      "outputs": [
        {
          "output_type": "stream",
          "text": [
            "/usr/local/lib/python3.6/dist-packages/sklearn/externals/joblib/__init__.py:15: DeprecationWarning: sklearn.externals.joblib is deprecated in 0.21 and will be removed in 0.23. Please import this functionality directly from joblib, which can be installed with: pip install joblib. If this warning is raised when loading pickled models, you may need to re-serialize those models with scikit-learn 0.21+.\n",
            "  warnings.warn(msg, category=DeprecationWarning)\n"
          ],
          "name": "stderr"
        }
      ]
    },
    {
      "cell_type": "markdown",
      "metadata": {
        "id": "zsVrLXZdNgG2",
        "colab_type": "text"
      },
      "source": [
        "# Initialize settings"
      ]
    },
    {
      "cell_type": "code",
      "metadata": {
        "id": "0zHOXk5h-mMh",
        "colab_type": "code",
        "colab": {}
      },
      "source": [
        "random_seed = 1\n",
        "n_samples = 15000\n",
        "\n",
        "names = [\n",
        "    'The Eiffel Tower.npy',\n",
        "    'baseball.npy',\n",
        "    'calculator.npy',\n",
        "    'giraffe.npy',\n",
        "    'moon.npy',\n",
        "    'passport.npy',\n",
        "    'snowflake.npy',\n",
        "    'traffic light.npy',\n",
        "    'yoga.npy',\n",
        "    'zebra.npy',\n",
        "]\n",
        "\n",
        "# 28x28 pixels, 1 channel\n",
        "IMAGE_SHAPE = (28, 28, 1)\n",
        "\n",
        "# Dataset settings\n",
        "BUFFER_SIZE = 1000\n",
        "BATCH_SIZE = 64\n",
        "\n",
        "# Size of Validation dataset\n",
        "VALIDATION_SIZE = 0.2"
      ],
      "execution_count": 0,
      "outputs": []
    },
    {
      "cell_type": "markdown",
      "metadata": {
        "id": "ugoQJgfnBRXA",
        "colab_type": "text"
      },
      "source": [
        "# Download load, and preprocess data\n",
        "\n",
        "Access data like described [here](https://github.com/googlecreativelab/quickdraw-dataset#preprocessed-dataset)"
      ]
    },
    {
      "cell_type": "code",
      "metadata": {
        "id": "tXmif_7_mZgg",
        "colab_type": "code",
        "colab": {
          "base_uri": "https://localhost:8080/",
          "height": 527
        },
        "outputId": "afa457e8-dfff-46dd-e299-193e9ac8b474"
      },
      "source": [
        "for name in names:\n",
        "  !gsutil -m cp 'gs://quickdraw_dataset/full/numpy_bitmap/{name}.npy' ."
      ],
      "execution_count": 37,
      "outputs": [
        {
          "output_type": "stream",
          "text": [
            "Copying gs://quickdraw_dataset/full/numpy_bitmap/The Eiffel Tower.npy...\n",
            "| [1/1 files][100.8 MiB/100.8 MiB] 100% Done                                    \n",
            "Operation completed over 1 objects/100.8 MiB.                                    \n",
            "Copying gs://quickdraw_dataset/full/numpy_bitmap/baseball.npy...\n",
            "\\ [1/1 files][101.2 MiB/101.2 MiB] 100% Done                                    \n",
            "Operation completed over 1 objects/101.2 MiB.                                    \n",
            "Copying gs://quickdraw_dataset/full/numpy_bitmap/calculator.npy...\n",
            "\\ [1/1 files][ 96.0 MiB/ 96.0 MiB] 100% Done                                    \n",
            "Operation completed over 1 objects/96.0 MiB.                                     \n",
            "Copying gs://quickdraw_dataset/full/numpy_bitmap/giraffe.npy...\n",
            "\\ [1/1 files][ 95.1 MiB/ 95.1 MiB] 100% Done                                    \n",
            "Operation completed over 1 objects/95.1 MiB.                                     \n",
            "Copying gs://quickdraw_dataset/full/numpy_bitmap/moon.npy...\n",
            "\\ [1/1 files][ 91.0 MiB/ 91.0 MiB] 100% Done                                    \n",
            "Operation completed over 1 objects/91.0 MiB.                                     \n",
            "Copying gs://quickdraw_dataset/full/numpy_bitmap/passport.npy...\n",
            "| [1/1 files][112.4 MiB/112.4 MiB] 100% Done                                    \n",
            "Operation completed over 1 objects/112.4 MiB.                                    \n",
            "Copying gs://quickdraw_dataset/full/numpy_bitmap/snowflake.npy...\n",
            "| [1/1 files][ 87.2 MiB/ 87.2 MiB] 100% Done                                    \n",
            "Operation completed over 1 objects/87.2 MiB.                                     \n",
            "Copying gs://quickdraw_dataset/full/numpy_bitmap/traffic light.npy...\n",
            "| [1/1 files][ 93.7 MiB/ 93.7 MiB] 100% Done                                    \n",
            "Operation completed over 1 objects/93.7 MiB.                                     \n",
            "Copying gs://quickdraw_dataset/full/numpy_bitmap/yoga.npy...\n",
            "\\ [1/1 files][209.7 MiB/209.7 MiB] 100% Done                                    \n",
            "Operation completed over 1 objects/209.7 MiB.                                    \n",
            "Copying gs://quickdraw_dataset/full/numpy_bitmap/zebra.npy...\n",
            "| [1/1 files][108.1 MiB/108.1 MiB] 100% Done                                    \n",
            "Operation completed over 1 objects/108.1 MiB.                                    \n"
          ],
          "name": "stdout"
        }
      ]
    },
    {
      "cell_type": "markdown",
      "metadata": {
        "id": "KF2SB9SON1Dl",
        "colab_type": "text"
      },
      "source": [
        "Data loaders and processors pull all data files, reshape/scale data as necessary, and prepare data in a shuffled/batched tf.Dataset object."
      ]
    },
    {
      "cell_type": "code",
      "metadata": {
        "id": "tL0POOXW-085",
        "colab_type": "code",
        "colab": {}
      },
      "source": [
        "def get_data(names=None, nSamples=1000, randomSeed=1, datapath=\"./data/\",\n",
        "             datasetPrefix=\"full_numpy_bitmap_\", datasetExtension=\".npy\" ,\n",
        "             data_shape=None):\n",
        "    \"\"\"\n",
        "    Returns a Numpy array with the requested Quick, Draw! data from numpy data files, plus label->int map\n",
        "\n",
        "    :param names: Names of drawings to be loaded\n",
        "    :param nSamples: Number of samples to be loaded per named drawing\n",
        "    :param randomSeed: If not False, Random seed passed to np.random.seed\n",
        "    :param datapath: Path to Quick Draw drawing data (in .npy format)\n",
        "    :param datasetPrefix, datasetExtension: Prefix and extension on filenames.  Filenames to be constructed as:\n",
        "                                            datasetPrefix + name + datasetExtension\n",
        "\n",
        "    :return: Tuple of: \n",
        "        data: Numpy array of loaded data\n",
        "        labels: Numpy array of label integers\n",
        "        nameDict: Dictionary mapping label name (key) to label integer (value)\n",
        "    \"\"\"\n",
        "    datafiles = [os.path.join(datapath, datasetPrefix, name+datasetExtension) for name in names]\n",
        "    nameDict = {}\n",
        "    \n",
        "    if randomSeed:\n",
        "        np.random.seed(randomSeed)\n",
        "\n",
        "    classNumber = 0\n",
        "    for name, fname in zip(names, datafiles):\n",
        "        nameDict[name] = classNumber\n",
        "        print(f\"Loading {nSamples} samples for {name} from {fname}\")\n",
        "        temp = np.load(fname).astype('float32')\n",
        "        temp = temp[np.random.choice(temp.shape[0], nSamples, replace=False)]\n",
        "\n",
        "        try:\n",
        "            data = np.concatenate((data, temp))\n",
        "            labels = np.concatenate((labels, np.ones(temp.shape[0], dtype='int') * classNumber))\n",
        "        except NameError:\n",
        "            data = temp\n",
        "            labels = np.ones(temp.shape[0], dtype='int32') * classNumber\n",
        "        \n",
        "        classNumber += 1\n",
        "    return data, labels, nameDict\n",
        "\n",
        "  \n",
        "def prepare_data(data, image_shape=None, ):\n",
        "    if image_shape is None:\n",
        "        image_shape = IMAGE_SHAPE\n",
        "        \n",
        "    # Scale and shift about 0\n",
        "    data = data.copy() / (255.0 / 2) - 1\n",
        "    \n",
        "    # Reshape to image shape (adds color channel)\n",
        "    data = data.reshape(-1, *image_shape)\n",
        "    \n",
        "    return data\n",
        "  \n",
        "def prepare_dataset(data, labels, buffer_size=BUFFER_SIZE, batch_size=BATCH_SIZE):\n",
        "  dataset = tf.data.Dataset.from_tensor_slices((data, labels))\n",
        "\n",
        "  # Randomize, but don't buffer all the data\n",
        "  dataset = dataset.shuffle(buffer_size)\n",
        "\n",
        "  # Serve data up in batches\n",
        "  dataset = dataset.batch(batch_size)\n",
        "\n",
        "  return dataset"
      ],
      "execution_count": 0,
      "outputs": []
    },
    {
      "cell_type": "code",
      "metadata": {
        "id": "1tHxI47D-6Z_",
        "colab_type": "code",
        "outputId": "b6586053-b2e4-49a4-c96d-a978d882d30d",
        "colab": {
          "base_uri": "https://localhost:8080/",
          "height": 187
        }
      },
      "source": [
        "data, labels, label2int = get_data(names=names, nSamples=n_samples, \n",
        "                                   randomSeed=random_seed, datasetPrefix='',\n",
        "                                   datapath='./')\n",
        "data = prepare_data(data)\n",
        "\n",
        "# Use python 3.7's feature that dictionary keys are in insertion order\n",
        "# to make a reverse map\n",
        "int2label = [k for k in label2int.keys()]"
      ],
      "execution_count": 58,
      "outputs": [
        {
          "output_type": "stream",
          "text": [
            "Loading 15000 samples for The Eiffel Tower from ./The Eiffel Tower.npy\n",
            "Loading 15000 samples for baseball from ./baseball.npy\n",
            "Loading 15000 samples for calculator from ./calculator.npy\n",
            "Loading 15000 samples for giraffe from ./giraffe.npy\n",
            "Loading 15000 samples for moon from ./moon.npy\n",
            "Loading 15000 samples for passport from ./passport.npy\n",
            "Loading 15000 samples for snowflake from ./snowflake.npy\n",
            "Loading 15000 samples for traffic light from ./traffic light.npy\n",
            "Loading 15000 samples for yoga from ./yoga.npy\n",
            "Loading 15000 samples for zebra from ./zebra.npy\n"
          ],
          "name": "stdout"
        }
      ]
    },
    {
      "cell_type": "markdown",
      "metadata": {
        "id": "LU9rGOegOgnk",
        "colab_type": "text"
      },
      "source": [
        "Split the data into test and validation splits, then prepare into a tf.Dataset"
      ]
    },
    {
      "cell_type": "code",
      "metadata": {
        "id": "kUAIH5pl-6Wu",
        "colab_type": "code",
        "colab": {}
      },
      "source": [
        "X_train, X_val, y_train, y_val = train_test_split(data, labels, \n",
        "                                                  test_size=VALIDATION_SIZE, \n",
        "                                                  random_state=random_seed,\n",
        "                                                  stratify=labels)"
      ],
      "execution_count": 0,
      "outputs": []
    },
    {
      "cell_type": "code",
      "metadata": {
        "id": "Ckj-_PB--6T4",
        "colab_type": "code",
        "colab": {}
      },
      "source": [
        "dataset_train = prepare_dataset(X_train, y_train)\n",
        "dataset_val = prepare_dataset(X_val, y_val)"
      ],
      "execution_count": 0,
      "outputs": []
    },
    {
      "cell_type": "markdown",
      "metadata": {
        "id": "z_KygMGlOz1c",
        "colab_type": "text"
      },
      "source": [
        "# Visualize the data\n",
        "\n",
        "Take a look at some random images"
      ]
    },
    {
      "cell_type": "code",
      "metadata": {
        "id": "GT1PmH48-6Q8",
        "colab_type": "code",
        "colab": {}
      },
      "source": [
        "def draw_sketch(x, y=None, cmap='gray_r', ax=None):\n",
        "    if ax is None:\n",
        "        fig, ax = plt.subplots()\n",
        "    \n",
        "    # Only plot the first output channel...\n",
        "    if len(x.shape) < 3:\n",
        "        x = x.reshape(x.shape[0], x.shape[1], 1)\n",
        "    ax.imshow(x[:, :, 0], cmap=cmap)\n",
        "    \n",
        "    if y is not None:\n",
        "        ax.text(x.shape[0] * 0.1, x.shape[1] * 0.1, str(y), color='r')\n",
        "    \n",
        "    return ax\n",
        "\n",
        "def draw_sketches(x, y=None, subplot_shape=None, fig=None, savefig=None, **kwargs):\n",
        "    if subplot_shape is None:\n",
        "        # Get subplotShape by the next round square\n",
        "        temp = math.ceil(math.sqrt(x.shape[0]))\n",
        "        subplot_shape = (temp, temp)\n",
        "        \n",
        "    if fig is None:\n",
        "        fig, axs = plt.subplots(nrows=subplot_shape[0], ncols=subplot_shape[1], figsize=(subplot_shape[1]*2, subplot_shape[0]*2))\n",
        "        \n",
        "    for i in range(subplot_shape[0]):\n",
        "        for j in range(subplot_shape[1]):\n",
        "            k = i * subplot_shape[1] + j\n",
        "            \n",
        "            try:\n",
        "                thisy = y[k]\n",
        "            except TypeError:\n",
        "                thisy = None\n",
        "            \n",
        "            draw_sketch(x[k], thisy, ax=axs[i, j], **kwargs)\n",
        "            \n",
        "            axs[i, j].set_xticks([])\n",
        "            axs[i, j].set_yticks([])\n",
        "            \n",
        "    if savefig:\n",
        "        fig.savefig(savefig)\n",
        "    \n",
        "    return fig"
      ],
      "execution_count": 0,
      "outputs": []
    },
    {
      "cell_type": "code",
      "metadata": {
        "id": "Jrw3Wosh-6N_",
        "colab_type": "code",
        "outputId": "2c1cebef-4969-404d-e8e8-925744840e81",
        "colab": {
          "base_uri": "https://localhost:8080/",
          "height": 582
        }
      },
      "source": [
        "# Some random drawings\n",
        "random_indices = np.random.choice(np.arange(data.shape[0]), size=25, replace=False)\n",
        "these_labels = [int2label[labels[i]] for i in random_indices]\n",
        "draw_sketches(x=data[random_indices], y=these_labels)\n",
        "plt.show()"
      ],
      "execution_count": 61,
      "outputs": [
        {
          "output_type": "display_data",
          "data": {
            "image/png": "[encoded data removed]",
            "text/plain": [
              "<Figure size 720x720 with 25 Axes>"
            ]
          },
          "metadata": {
            "tags": []
          }
        }
      ]
    },
    {
      "cell_type": "markdown",
      "metadata": {
        "id": "OEut0PDcO_s2",
        "colab_type": "text"
      },
      "source": [
        "# Build the CNN Classifier\n",
        "\n",
        "Define a constructor for the model which lets us vary hyperparameters as required (used for grid searching elsewhere)"
      ]
    },
    {
      "cell_type": "code",
      "metadata": {
        "id": "a5bt3czA_B3p",
        "colab_type": "code",
        "colab": {}
      },
      "source": [
        "def build_model(filters_1=16, kernel_size_1=None, dropout_1=0.25,\n",
        "                filters_2=16, kernel_size_2=None, dropout_2=0.50,\n",
        "                dense_layer_sizes=None, n_labels=1, output_activation=True):\n",
        "  \"\"\"\n",
        "  Retruns an uncompiled tf.keras.Model\n",
        "  \n",
        "  Model includes:\n",
        "    BatchNormalization between convolutional layers (cited to reduce training time\n",
        "    by similar concept to normalizing inputs for NN's\n",
        "    Dropout between convolutional layers to reduce overfitting\n",
        "    LeakyReLU activation for inner layers to avoid vanishing gradients and dead neurons\n",
        "    Optional activation on the output layer\n",
        "      None if we want to use this as input for a loss function that prefers inputs as logits\n",
        "      Sigmoid if we have a binary classification problem\n",
        "      Softmax if we have a multi-class classification problem\n",
        "  \"\"\"\n",
        "  \n",
        "  if dense_layer_sizes == None:\n",
        "    dense_layer_sizes = []\n",
        "\n",
        "  if kernel_size_1 == None:\n",
        "    kernel_size_1 = (5, 5)\n",
        "\n",
        "  if kernel_size_2 == None:\n",
        "    kernel_size_2 = (5, 5)\n",
        "\n",
        "  model = tf.keras.Sequential()\n",
        "\n",
        "  model.add(tf.keras.layers.Conv2D(filters=filters_1, kernel_size=kernel_size_1,\n",
        "                                   strides=(1, 1), padding='same',\n",
        "                                   input_shape=IMAGE_SHAPE))\n",
        "  model.add(tf.keras.layers.MaxPool2D(pool_size=(2, 2)))\n",
        "  model.add(tf.keras.layers.BatchNormalization())\n",
        "  model.add(tf.keras.layers.Dropout(dropout_1))\n",
        "  model.add(tf.keras.layers.LeakyReLU())\n",
        "\n",
        "  model.add(tf.keras.layers.Conv2D(filters=filters_2, kernel_size=kernel_size_2, \n",
        "                                   strides=(1, 1), padding='same') )\n",
        "  model.add(tf.keras.layers.MaxPool2D(pool_size=(2, 2)))\n",
        "  model.add(tf.keras.layers.BatchNormalization())\n",
        "  model.add(tf.keras.layers.Dropout(dropout_2))\n",
        "  model.add(tf.keras.layers.LeakyReLU())\n",
        "\n",
        "  model.add(tf.keras.layers.Flatten())\n",
        "\n",
        "  for size in dense_layer_sizes:\n",
        "    model.add(tf.keras.layers.Dense(size))\n",
        "    model.add(tf.keras.layers.LeakyReLU())\n",
        "\n",
        "\n",
        "  if n_labels == 2:\n",
        "    print(f'Detected binary classification - overwriting n_labels to set to 1 (was {n_labels})')\n",
        "    n_labels = 1\n",
        "\n",
        "  if output_activation is True:\n",
        "    if n_labels == 1:\n",
        "    # Binary classification so use sigmoid if applying activation\n",
        "      output_activation = 'sigmoid'\n",
        "    else:\n",
        "      # Multiclass classification so use softmax\n",
        "      output_activation = 'softmax'\n",
        "  elif not output_activation:\n",
        "    output_activation = None\n",
        "  model.add(tf.keras.layers.Dense(n_labels, activation=output_activation))\n",
        "\n",
        "  return model"
      ],
      "execution_count": 0,
      "outputs": []
    },
    {
      "cell_type": "code",
      "metadata": {
        "id": "T8jqBesu_Ayl",
        "colab_type": "code",
        "outputId": "02de439d-307b-4590-9d2a-9a266c75ccc1",
        "colab": {
          "base_uri": "https://localhost:8080/",
          "height": 629
        }
      },
      "source": [
        "# Note that parameters were chosen through a binary classification grid search for parameters\n",
        "# done separately\n",
        "params = {\n",
        "    'filters_1': 16,\n",
        "    'kernel_size_1': (5, 5),\n",
        "    'dropout_1': 0.25,\n",
        "    'filters_2': 16,\n",
        "    'kernel_size_2': (5, 5),\n",
        "    'dropout_2': 0.5,\n",
        "    'dense_layer_sizes': [16],\n",
        "}\n",
        "\n",
        "model = build_model(**params, n_labels=len(label2int), output_activation=True)\n",
        "model.summary()\n",
        "\n",
        "\n",
        "if len(names) <= 2:\n",
        "  loss = 'binary_crossentropy'\n",
        "else:\n",
        "  # If we encode with labels ([0, 1, 2, ....]) then we use sparse_categorical_crossentropy\n",
        "  loss = 'sparse_categorical_crossentropy'\n",
        "  # If we encode with one-hot vectors ([[0, 0, 1, ... 0], [0, 1, 0, ... 0], ...]) then\n",
        "  # we use categorical_crossentropy\n",
        "#   loss = 'categorical_crossentropy'\n",
        "  \n",
        "model.compile(tf.keras.optimizers.Adam(),\n",
        "              loss=loss,\n",
        "             metrics=['accuracy'])\n",
        "\n",
        "callbacks = [\n",
        "    tf.keras.callbacks.EarlyStopping(monitor='val_accuracy',\n",
        "                                     min_delta=0,\n",
        "                                     patience=10),\n",
        "            ]"
      ],
      "execution_count": 48,
      "outputs": [
        {
          "output_type": "stream",
          "text": [
            "Model: \"sequential_5\"\n",
            "_________________________________________________________________\n",
            "Layer (type)                 Output Shape              Param #   \n",
            "=================================================================\n",
            "conv2d_10 (Conv2D)           (None, 28, 28, 16)        416       \n",
            "_________________________________________________________________\n",
            "max_pooling2d_10 (MaxPooling (None, 14, 14, 16)        0         \n",
            "_________________________________________________________________\n",
            "batch_normalization_10 (Batc (None, 14, 14, 16)        64        \n",
            "_________________________________________________________________\n",
            "dropout_10 (Dropout)         (None, 14, 14, 16)        0         \n",
            "_________________________________________________________________\n",
            "leaky_re_lu_15 (LeakyReLU)   (None, 14, 14, 16)        0         \n",
            "_________________________________________________________________\n",
            "conv2d_11 (Conv2D)           (None, 14, 14, 16)        6416      \n",
            "_________________________________________________________________\n",
            "max_pooling2d_11 (MaxPooling (None, 7, 7, 16)          0         \n",
            "_________________________________________________________________\n",
            "batch_normalization_11 (Batc (None, 7, 7, 16)          64        \n",
            "_________________________________________________________________\n",
            "dropout_11 (Dropout)         (None, 7, 7, 16)          0         \n",
            "_________________________________________________________________\n",
            "leaky_re_lu_16 (LeakyReLU)   (None, 7, 7, 16)          0         \n",
            "_________________________________________________________________\n",
            "flatten_5 (Flatten)          (None, 784)               0         \n",
            "_________________________________________________________________\n",
            "dense_10 (Dense)             (None, 16)                12560     \n",
            "_________________________________________________________________\n",
            "leaky_re_lu_17 (LeakyReLU)   (None, 16)                0         \n",
            "_________________________________________________________________\n",
            "dense_11 (Dense)             (None, 10)                170       \n",
            "=================================================================\n",
            "Total params: 19,690\n",
            "Trainable params: 19,626\n",
            "Non-trainable params: 64\n",
            "_________________________________________________________________\n"
          ],
          "name": "stdout"
        }
      ]
    },
    {
      "cell_type": "markdown",
      "metadata": {
        "id": "wRT9fatdRxkp",
        "colab_type": "text"
      },
      "source": [
        "# Train the model"
      ]
    },
    {
      "cell_type": "code",
      "metadata": {
        "id": "Vf6whIl4_Ao9",
        "colab_type": "code",
        "outputId": "3aa2df09-cd49-48ed-9e44-fc29252c2ff1",
        "colab": {
          "base_uri": "https://localhost:8080/",
          "height": 1000
        }
      },
      "source": [
        "%%time\n",
        "model.fit(x=dataset_train,\n",
        "          validation_data=dataset_val,\n",
        "          epochs=500,\n",
        "          steps_per_epoch=None,\n",
        "          callbacks=callbacks\n",
        "          )"
      ],
      "execution_count": 49,
      "outputs": [
        {
          "output_type": "stream",
          "text": [
            "Epoch 1/500\n",
            "1875/1875 [==============================] - 20s 11ms/step - loss: 0.5909 - accuracy: 0.8128 - val_loss: 0.3808 - val_accuracy: 0.8824\n",
            "Epoch 2/500\n",
            "1875/1875 [==============================] - 18s 10ms/step - loss: 0.4166 - accuracy: 0.8703 - val_loss: 0.3362 - val_accuracy: 0.9001\n",
            "Epoch 3/500\n",
            "1875/1875 [==============================] - 18s 10ms/step - loss: 0.3857 - accuracy: 0.8809 - val_loss: 0.3189 - val_accuracy: 0.9036\n",
            "Epoch 4/500\n",
            "1875/1875 [==============================] - 18s 10ms/step - loss: 0.3673 - accuracy: 0.8863 - val_loss: 0.2998 - val_accuracy: 0.9092\n",
            "Epoch 5/500\n",
            "1875/1875 [==============================] - 18s 10ms/step - loss: 0.3577 - accuracy: 0.8886 - val_loss: 0.2921 - val_accuracy: 0.9115\n",
            "Epoch 6/500\n",
            "1875/1875 [==============================] - 18s 10ms/step - loss: 0.3486 - accuracy: 0.8921 - val_loss: 0.2944 - val_accuracy: 0.9105\n",
            "Epoch 7/500\n",
            "1875/1875 [==============================] - 18s 10ms/step - loss: 0.3415 - accuracy: 0.8940 - val_loss: 0.2801 - val_accuracy: 0.9161\n",
            "Epoch 8/500\n",
            "1875/1875 [==============================] - 19s 10ms/step - loss: 0.3324 - accuracy: 0.8978 - val_loss: 0.2737 - val_accuracy: 0.9183\n",
            "Epoch 9/500\n",
            "1875/1875 [==============================] - 18s 10ms/step - loss: 0.3302 - accuracy: 0.8978 - val_loss: 0.2718 - val_accuracy: 0.9179\n",
            "Epoch 10/500\n",
            "1875/1875 [==============================] - 18s 10ms/step - loss: 0.3267 - accuracy: 0.8986 - val_loss: 0.2675 - val_accuracy: 0.9203\n",
            "Epoch 11/500\n",
            "1875/1875 [==============================] - 18s 10ms/step - loss: 0.3248 - accuracy: 0.9000 - val_loss: 0.2662 - val_accuracy: 0.9197\n",
            "Epoch 12/500\n",
            "1875/1875 [==============================] - 18s 10ms/step - loss: 0.3189 - accuracy: 0.9020 - val_loss: 0.2678 - val_accuracy: 0.9178\n",
            "Epoch 13/500\n",
            "1875/1875 [==============================] - 18s 10ms/step - loss: 0.3172 - accuracy: 0.9018 - val_loss: 0.2611 - val_accuracy: 0.9220\n",
            "Epoch 14/500\n",
            "1875/1875 [==============================] - 18s 10ms/step - loss: 0.3146 - accuracy: 0.9026 - val_loss: 0.2725 - val_accuracy: 0.9179\n",
            "Epoch 15/500\n",
            "1875/1875 [==============================] - 18s 10ms/step - loss: 0.3111 - accuracy: 0.9037 - val_loss: 0.2642 - val_accuracy: 0.9194\n",
            "Epoch 16/500\n",
            "1875/1875 [==============================] - 18s 10ms/step - loss: 0.3084 - accuracy: 0.9047 - val_loss: 0.2617 - val_accuracy: 0.9195\n",
            "Epoch 17/500\n",
            "1875/1875 [==============================] - 18s 10ms/step - loss: 0.3079 - accuracy: 0.9048 - val_loss: 0.2554 - val_accuracy: 0.9228\n",
            "Epoch 18/500\n",
            "1875/1875 [==============================] - 18s 10ms/step - loss: 0.3050 - accuracy: 0.9057 - val_loss: 0.2630 - val_accuracy: 0.9204\n",
            "Epoch 19/500\n",
            "1875/1875 [==============================] - 18s 10ms/step - loss: 0.3055 - accuracy: 0.9065 - val_loss: 0.2545 - val_accuracy: 0.9234\n",
            "Epoch 20/500\n",
            "1875/1875 [==============================] - 18s 10ms/step - loss: 0.3043 - accuracy: 0.9054 - val_loss: 0.2481 - val_accuracy: 0.9251\n",
            "Epoch 21/500\n",
            "1875/1875 [==============================] - 18s 10ms/step - loss: 0.3030 - accuracy: 0.9066 - val_loss: 0.2611 - val_accuracy: 0.9209\n",
            "Epoch 22/500\n",
            "1875/1875 [==============================] - 18s 10ms/step - loss: 0.3021 - accuracy: 0.9069 - val_loss: 0.2498 - val_accuracy: 0.9245\n",
            "Epoch 23/500\n",
            "1875/1875 [==============================] - 18s 10ms/step - loss: 0.3007 - accuracy: 0.9072 - val_loss: 0.2520 - val_accuracy: 0.9240\n",
            "Epoch 24/500\n",
            "1875/1875 [==============================] - 18s 10ms/step - loss: 0.3013 - accuracy: 0.9068 - val_loss: 0.2507 - val_accuracy: 0.9237\n",
            "Epoch 25/500\n",
            "1875/1875 [==============================] - 18s 10ms/step - loss: 0.2976 - accuracy: 0.9079 - val_loss: 0.2483 - val_accuracy: 0.9258\n",
            "Epoch 26/500\n",
            "1875/1875 [==============================] - 18s 10ms/step - loss: 0.2976 - accuracy: 0.9089 - val_loss: 0.2491 - val_accuracy: 0.9247\n",
            "Epoch 27/500\n",
            "1875/1875 [==============================] - 18s 10ms/step - loss: 0.2968 - accuracy: 0.9090 - val_loss: 0.2461 - val_accuracy: 0.9255\n",
            "Epoch 28/500\n",
            "1875/1875 [==============================] - 18s 10ms/step - loss: 0.2959 - accuracy: 0.9083 - val_loss: 0.2460 - val_accuracy: 0.9255\n",
            "Epoch 29/500\n",
            "1875/1875 [==============================] - 18s 10ms/step - loss: 0.2960 - accuracy: 0.9091 - val_loss: 0.2451 - val_accuracy: 0.9253\n",
            "Epoch 30/500\n",
            "1875/1875 [==============================] - 18s 10ms/step - loss: 0.2949 - accuracy: 0.9096 - val_loss: 0.2446 - val_accuracy: 0.9256\n",
            "Epoch 31/500\n",
            "1875/1875 [==============================] - 18s 10ms/step - loss: 0.2942 - accuracy: 0.9096 - val_loss: 0.2453 - val_accuracy: 0.9254\n",
            "Epoch 32/500\n",
            "1875/1875 [==============================] - 18s 10ms/step - loss: 0.2945 - accuracy: 0.9081 - val_loss: 0.2463 - val_accuracy: 0.9260\n",
            "Epoch 33/500\n",
            "1875/1875 [==============================] - 18s 10ms/step - loss: 0.2907 - accuracy: 0.9098 - val_loss: 0.2428 - val_accuracy: 0.9265\n",
            "Epoch 34/500\n",
            "1875/1875 [==============================] - 18s 9ms/step - loss: 0.2925 - accuracy: 0.9102 - val_loss: 0.2427 - val_accuracy: 0.9277\n",
            "Epoch 35/500\n",
            "1875/1875 [==============================] - 18s 9ms/step - loss: 0.2935 - accuracy: 0.9095 - val_loss: 0.2418 - val_accuracy: 0.9272\n",
            "Epoch 36/500\n",
            "1875/1875 [==============================] - 18s 10ms/step - loss: 0.2927 - accuracy: 0.9098 - val_loss: 0.2432 - val_accuracy: 0.9264\n",
            "Epoch 37/500\n",
            "1875/1875 [==============================] - 18s 9ms/step - loss: 0.2905 - accuracy: 0.9102 - val_loss: 0.2420 - val_accuracy: 0.9268\n",
            "Epoch 38/500\n",
            "1875/1875 [==============================] - 18s 9ms/step - loss: 0.2897 - accuracy: 0.9108 - val_loss: 0.2425 - val_accuracy: 0.9261\n",
            "Epoch 39/500\n",
            "1875/1875 [==============================] - 18s 9ms/step - loss: 0.2904 - accuracy: 0.9102 - val_loss: 0.2421 - val_accuracy: 0.9268\n",
            "Epoch 40/500\n",
            "1875/1875 [==============================] - 18s 9ms/step - loss: 0.2892 - accuracy: 0.9103 - val_loss: 0.2456 - val_accuracy: 0.9253\n",
            "Epoch 41/500\n",
            "1875/1875 [==============================] - 18s 10ms/step - loss: 0.2903 - accuracy: 0.9102 - val_loss: 0.2400 - val_accuracy: 0.9280\n",
            "Epoch 42/500\n",
            "1875/1875 [==============================] - 18s 10ms/step - loss: 0.2885 - accuracy: 0.9113 - val_loss: 0.2398 - val_accuracy: 0.9274\n",
            "Epoch 43/500\n",
            "1875/1875 [==============================] - 18s 9ms/step - loss: 0.2905 - accuracy: 0.9105 - val_loss: 0.2418 - val_accuracy: 0.9272\n",
            "Epoch 44/500\n",
            "1875/1875 [==============================] - 18s 9ms/step - loss: 0.2876 - accuracy: 0.9115 - val_loss: 0.2411 - val_accuracy: 0.9267\n",
            "Epoch 45/500\n",
            "1875/1875 [==============================] - 18s 10ms/step - loss: 0.2874 - accuracy: 0.9114 - val_loss: 0.2391 - val_accuracy: 0.9271\n",
            "Epoch 46/500\n",
            "1875/1875 [==============================] - 18s 9ms/step - loss: 0.2880 - accuracy: 0.9114 - val_loss: 0.2407 - val_accuracy: 0.9271\n",
            "Epoch 47/500\n",
            "1875/1875 [==============================] - 18s 9ms/step - loss: 0.2881 - accuracy: 0.9116 - val_loss: 0.2375 - val_accuracy: 0.9286\n",
            "Epoch 48/500\n",
            "1875/1875 [==============================] - 18s 9ms/step - loss: 0.2864 - accuracy: 0.9119 - val_loss: 0.2365 - val_accuracy: 0.9286\n",
            "Epoch 49/500\n",
            "1875/1875 [==============================] - 18s 10ms/step - loss: 0.2865 - accuracy: 0.9104 - val_loss: 0.2386 - val_accuracy: 0.9279\n",
            "Epoch 50/500\n",
            "1875/1875 [==============================] - 18s 9ms/step - loss: 0.2848 - accuracy: 0.9125 - val_loss: 0.2395 - val_accuracy: 0.9272\n",
            "Epoch 51/500\n",
            "1875/1875 [==============================] - 18s 9ms/step - loss: 0.2858 - accuracy: 0.9115 - val_loss: 0.2381 - val_accuracy: 0.9286\n",
            "Epoch 52/500\n",
            "1875/1875 [==============================] - 18s 10ms/step - loss: 0.2839 - accuracy: 0.9129 - val_loss: 0.2420 - val_accuracy: 0.9267\n",
            "Epoch 53/500\n",
            "1875/1875 [==============================] - 18s 9ms/step - loss: 0.2843 - accuracy: 0.9119 - val_loss: 0.2399 - val_accuracy: 0.9274\n",
            "Epoch 54/500\n",
            "1875/1875 [==============================] - 18s 10ms/step - loss: 0.2845 - accuracy: 0.9118 - val_loss: 0.2367 - val_accuracy: 0.9282\n",
            "Epoch 55/500\n",
            "1875/1875 [==============================] - 18s 9ms/step - loss: 0.2845 - accuracy: 0.9121 - val_loss: 0.2380 - val_accuracy: 0.9291\n",
            "Epoch 56/500\n",
            "1875/1875 [==============================] - 18s 9ms/step - loss: 0.2838 - accuracy: 0.9125 - val_loss: 0.2374 - val_accuracy: 0.9280\n",
            "Epoch 57/500\n",
            "1875/1875 [==============================] - 18s 9ms/step - loss: 0.2816 - accuracy: 0.9136 - val_loss: 0.2368 - val_accuracy: 0.9267\n",
            "Epoch 58/500\n",
            "1875/1875 [==============================] - 18s 10ms/step - loss: 0.2835 - accuracy: 0.9127 - val_loss: 0.2373 - val_accuracy: 0.9282\n",
            "Epoch 59/500\n",
            "1875/1875 [==============================] - 18s 10ms/step - loss: 0.2832 - accuracy: 0.9124 - val_loss: 0.2357 - val_accuracy: 0.9288\n",
            "Epoch 60/500\n",
            "1875/1875 [==============================] - 18s 9ms/step - loss: 0.2807 - accuracy: 0.9139 - val_loss: 0.2369 - val_accuracy: 0.9288\n",
            "Epoch 61/500\n",
            "1875/1875 [==============================] - 18s 9ms/step - loss: 0.2824 - accuracy: 0.9136 - val_loss: 0.2374 - val_accuracy: 0.9290\n",
            "Epoch 62/500\n",
            "1875/1875 [==============================] - 18s 10ms/step - loss: 0.2827 - accuracy: 0.9121 - val_loss: 0.2379 - val_accuracy: 0.9280\n",
            "Epoch 63/500\n",
            "1875/1875 [==============================] - 18s 9ms/step - loss: 0.2820 - accuracy: 0.9128 - val_loss: 0.2361 - val_accuracy: 0.9293\n",
            "Epoch 64/500\n",
            "1875/1875 [==============================] - 18s 9ms/step - loss: 0.2809 - accuracy: 0.9138 - val_loss: 0.2356 - val_accuracy: 0.9284\n",
            "Epoch 65/500\n",
            "1875/1875 [==============================] - 18s 9ms/step - loss: 0.2809 - accuracy: 0.9129 - val_loss: 0.2431 - val_accuracy: 0.9269\n",
            "Epoch 66/500\n",
            "1875/1875 [==============================] - 18s 9ms/step - loss: 0.2811 - accuracy: 0.9135 - val_loss: 0.2358 - val_accuracy: 0.9284\n",
            "Epoch 67/500\n",
            "1875/1875 [==============================] - 18s 10ms/step - loss: 0.2812 - accuracy: 0.9130 - val_loss: 0.2416 - val_accuracy: 0.9257\n",
            "Epoch 68/500\n",
            "1875/1875 [==============================] - 18s 9ms/step - loss: 0.2795 - accuracy: 0.9139 - val_loss: 0.2349 - val_accuracy: 0.9279\n",
            "Epoch 69/500\n",
            "1875/1875 [==============================] - 18s 9ms/step - loss: 0.2789 - accuracy: 0.9146 - val_loss: 0.2335 - val_accuracy: 0.9296\n",
            "Epoch 70/500\n",
            "1875/1875 [==============================] - 18s 9ms/step - loss: 0.2822 - accuracy: 0.9128 - val_loss: 0.2358 - val_accuracy: 0.9289\n",
            "Epoch 71/500\n",
            "1875/1875 [==============================] - 18s 10ms/step - loss: 0.2814 - accuracy: 0.9131 - val_loss: 0.2375 - val_accuracy: 0.9275\n",
            "Epoch 72/500\n",
            "1875/1875 [==============================] - 18s 9ms/step - loss: 0.2794 - accuracy: 0.9133 - val_loss: 0.2364 - val_accuracy: 0.9283\n",
            "Epoch 73/500\n",
            "1875/1875 [==============================] - 18s 9ms/step - loss: 0.2805 - accuracy: 0.9134 - val_loss: 0.2358 - val_accuracy: 0.9280\n",
            "Epoch 74/500\n",
            "1875/1875 [==============================] - 18s 9ms/step - loss: 0.2774 - accuracy: 0.9139 - val_loss: 0.2381 - val_accuracy: 0.9285\n",
            "Epoch 75/500\n",
            "1875/1875 [==============================] - 18s 10ms/step - loss: 0.2801 - accuracy: 0.9136 - val_loss: 0.2342 - val_accuracy: 0.9292\n",
            "Epoch 76/500\n",
            "1875/1875 [==============================] - 18s 10ms/step - loss: 0.2805 - accuracy: 0.9136 - val_loss: 0.2328 - val_accuracy: 0.9295\n",
            "Epoch 77/500\n",
            "1875/1875 [==============================] - 18s 9ms/step - loss: 0.2791 - accuracy: 0.9137 - val_loss: 0.2367 - val_accuracy: 0.9275\n",
            "Epoch 78/500\n",
            "1875/1875 [==============================] - 18s 9ms/step - loss: 0.2807 - accuracy: 0.9135 - val_loss: 0.2354 - val_accuracy: 0.9295\n",
            "Epoch 79/500\n",
            "1875/1875 [==============================] - 18s 9ms/step - loss: 0.2787 - accuracy: 0.9145 - val_loss: 0.2349 - val_accuracy: 0.9290\n",
            "CPU times: user 29min 55s, sys: 3min 14s, total: 33min 9s\n",
            "Wall time: 24min 14s\n"
          ],
          "name": "stdout"
        },
        {
          "output_type": "execute_result",
          "data": {
            "text/plain": [
              "<tensorflow.python.keras.callbacks.History at 0x7f9012d0fcf8>"
            ]
          },
          "metadata": {
            "tags": []
          },
          "execution_count": 49
        }
      ]
    },
    {
      "cell_type": "markdown",
      "metadata": {
        "id": "rEp6i742Rvyo",
        "colab_type": "text"
      },
      "source": [
        "Training gives us ~93% accuracy.  \n",
        "\n",
        "Looking at the classification report, we can see all classes are classified reasonably well although some are better than others"
      ]
    },
    {
      "cell_type": "code",
      "metadata": {
        "id": "3Oe9cCHSVQmk",
        "colab_type": "code",
        "colab": {
          "base_uri": "https://localhost:8080/",
          "height": 306
        },
        "outputId": "164c7031-0627-49f6-e2b5-f53939bf8946"
      },
      "source": [
        "print(classification_report(y_val, y_pred, target_names=names))"
      ],
      "execution_count": 97,
      "outputs": [
        {
          "output_type": "stream",
          "text": [
            "                  precision    recall  f1-score   support\n",
            "\n",
            "The Eiffel Tower       0.97      0.97      0.97      3000\n",
            "        baseball       0.91      0.93      0.92      3000\n",
            "      calculator       0.92      0.95      0.94      3000\n",
            "         giraffe       0.96      0.96      0.96      3000\n",
            "            moon       0.94      0.91      0.92      3000\n",
            "        passport       0.90      0.87      0.89      3000\n",
            "       snowflake       0.94      0.95      0.95      3000\n",
            "   traffic light       0.96      0.94      0.95      3000\n",
            "            yoga       0.87      0.86      0.86      3000\n",
            "           zebra       0.91      0.96      0.93      3000\n",
            "\n",
            "        accuracy                           0.93     30000\n",
            "       macro avg       0.93      0.93      0.93     30000\n",
            "    weighted avg       0.93      0.93      0.93     30000\n",
            "\n"
          ],
          "name": "stdout"
        }
      ]
    },
    {
      "cell_type": "markdown",
      "metadata": {
        "id": "f_8hcLQFV687",
        "colab_type": "text"
      },
      "source": [
        "For example, the Eiffel Tower and Giraffes both have very high scores, whereas passports and yoga are lower (although still not bad...).  Looking at the confusion matrix we can see some interesting trends within the mistakes..."
      ]
    },
    {
      "cell_type": "code",
      "metadata": {
        "id": "zV6_qCRyTFks",
        "colab_type": "code",
        "colab": {}
      },
      "source": [
        "def plot_confusion_matrix(y_true, y_pred, classes,\n",
        "                          normalize=False,\n",
        "                          title=None,\n",
        "                          cmap=plt.cm.Blues):\n",
        "    \"\"\"\n",
        "    This function prints and plots the confusion matrix.\n",
        "    \n",
        "    (Slightly modified from https://scikit-learn.org/stable/auto_examples/model_selection/plot_confusion_matrix.html#sphx-glr-auto-examples-model-selection-plot-confusion-matrix-py)\n",
        "    \n",
        "    Normalization can be applied by setting `normalize=True`.\n",
        "    \"\"\"\n",
        "    if not title:\n",
        "        if normalize:\n",
        "            title = 'Normalized confusion matrix'\n",
        "        else:\n",
        "            title = 'Confusion matrix, without normalization'\n",
        "\n",
        "    classes = np.asarray(classes)\n",
        "            \n",
        "            # Compute confusion matrix\n",
        "    cm = confusion_matrix(y_true, y_pred)\n",
        "    # Only use the labels that appear in the data\n",
        "    classes = classes[unique_labels(y_true, y_pred)]\n",
        "    if normalize:\n",
        "        cm = cm.astype('float') / cm.sum(axis=1)[:, np.newaxis]\n",
        "        print(\"Normalized confusion matrix\")\n",
        "    else:\n",
        "        print('Confusion matrix, without normalization')\n",
        "\n",
        "    fig, ax = plt.subplots(figsize=(8, 6))\n",
        "    im = ax.imshow(cm, interpolation='nearest', cmap=cmap)\n",
        "    ax.figure.colorbar(im, ax=ax)\n",
        "    # We want to show all ticks...\n",
        "    ax.set(xticks=np.arange(cm.shape[1]),\n",
        "           yticks=np.arange(cm.shape[0]),\n",
        "           # ... and label them with the respective list entries\n",
        "           xticklabels=classes, yticklabels=classes,\n",
        "           title=title,\n",
        "           ylabel='True label',\n",
        "           xlabel='Predicted label')\n",
        "\n",
        "    # Rotate the tick labels and set their alignment.\n",
        "    plt.setp(ax.get_xticklabels(), rotation=45, ha=\"right\",\n",
        "             rotation_mode=\"anchor\")\n",
        "\n",
        "    # Loop over data dimensions and create text annotations.\n",
        "    fmt = '.2f' if normalize else 'd'\n",
        "    thresh = cm.max() / 2.\n",
        "    for i in range(cm.shape[0]):\n",
        "        for j in range(cm.shape[1]):\n",
        "            ax.text(j, i, format(cm[i, j], fmt),\n",
        "                    ha=\"center\", va=\"center\",\n",
        "                    color=\"white\" if cm[i, j] > thresh else \"black\")\n",
        "    fig.tight_layout()\n",
        "    return ax\n",
        "\n"
      ],
      "execution_count": 0,
      "outputs": []
    },
    {
      "cell_type": "code",
      "metadata": {
        "id": "b5BfW5GQTd3M",
        "colab_type": "code",
        "colab": {
          "base_uri": "https://localhost:8080/",
          "height": 645
        },
        "outputId": "93eab65d-9b31-4db3-f65a-14059572c5d0"
      },
      "source": [
        "plot_confusion_matrix(y_val, y_pred, int2label)"
      ],
      "execution_count": 99,
      "outputs": [
        {
          "output_type": "stream",
          "text": [
            "Confusion matrix, without normalization\n",
            "[[2908    4    5    7    1    9   10   11   31   14]\n",
            " [   4 2790    1   10   49   18    7   10   86   25]\n",
            " [   2    6 2847    1    5  100    3   12   10   14]\n",
            " [   7    6    0 2874    5    1    7   20   26   54]\n",
            " [   6  134    1    3 2718   14   20    2   76   26]\n",
            " [   7   27  224    2   19 2613    7   45   34   22]\n",
            " [  10   11    1    4   25    7 2864    1   52   25]\n",
            " [  11   11    7    8    6   77   12 2806   42   20]\n",
            " [  44   58    1   45   43   45   91   24 2574   75]\n",
            " [   6    7    1   38    7   13   15    3   35 2875]]\n"
          ],
          "name": "stdout"
        },
        {
          "output_type": "execute_result",
          "data": {
            "text/plain": [
              "<matplotlib.axes._subplots.AxesSubplot at 0x7f900d8ed748>"
            ]
          },
          "metadata": {
            "tags": []
          },
          "execution_count": 99
        },
        {
          "output_type": "display_data",
          "data": {
            "image/png": "[encoded data removed]",
            "text/plain": [
              "<Figure size 576x432 with 2 Axes>"
            ]
          },
          "metadata": {
            "tags": []
          }
        }
      ]
    },
    {
      "cell_type": "markdown",
      "metadata": {
        "id": "hw15zDJLW4Sv",
        "colab_type": "text"
      },
      "source": [
        "Interestingly, a fair number of passports were classified as calculators (reading across the passport row we see how many actual passports were classified as each item (column)).  Meanwhile, yoga was mistaken for almost everything..."
      ]
    }
  ]
}