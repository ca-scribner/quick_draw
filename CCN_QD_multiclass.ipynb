{
  "nbformat": 4,
  "nbformat_minor": 0,
  "metadata": {
    "colab": {
      "name": "CCN_QD_multiclass",
      "version": "0.3.2",
      "provenance": [],
      "collapsed_sections": [],
      "include_colab_link": true
    },
    "kernelspec": {
      "name": "python3",
      "display_name": "Python 3"
    },
    "accelerator": "GPU"
  },
  "cells": [
    {
      "cell_type": "markdown",
      "metadata": {
        "id": "view-in-github",
        "colab_type": "text"
      },
      "source": [
        "<a href=\"https://colab.research.google.com/github/ca-scribner/quick_draw/blob/master/CCN_QD_multiclass.ipynb\" target=\"_parent\"><img src=\"https://colab.research.google.com/assets/colab-badge.svg\" alt=\"Open In Colab\"/></a>"
      ]
    },
    {
      "cell_type": "markdown",
      "metadata": {
        "id": "i4J-iQVNd9uQ",
        "colab_type": "text"
      },
      "source": [
        "# Summary\n",
        "\n",
        "The following trains a CNN-based classifier to distinguish between a 10-category subset of the Quick, Draw! dataset.  This notebook was run on a Google Colab instance and includes all commands necessary to aquire and process the data.  Some very high level discussion of results is included, but generally this was made more as a proof-of-concept reminder for me to come back to when I wanted to do something similar in a production setting. "
      ]
    },
    {
      "cell_type": "markdown",
      "metadata": {
        "id": "n9SxIDwHNYsN",
        "colab_type": "text"
      },
      "source": [
        "# Install and load necessary packages"
      ]
    },
    {
      "cell_type": "code",
      "metadata": {
        "id": "TlZU6pjc9dXs",
        "colab_type": "code",
        "outputId": "8d3c9294-a3ed-4424-e9bf-3c49abc28874",
        "colab": {
          "base_uri": "https://localhost:8080/",
          "height": 357
        }
      },
      "source": [
        "!pip install tensorflow-gpu==2.0.0-beta1"
      ],
      "execution_count": 1,
      "outputs": [
        {
          "output_type": "stream",
          "text": [
            "Requirement already satisfied: tensorflow-gpu==2.0.0-beta1 in /usr/local/lib/python3.6/dist-packages (2.0.0b1)\n",
            "Requirement already satisfied: astor>=0.6.0 in /usr/local/lib/python3.6/dist-packages (from tensorflow-gpu==2.0.0-beta1) (0.8.0)\n",
            "Requirement already satisfied: absl-py>=0.7.0 in /usr/local/lib/python3.6/dist-packages (from tensorflow-gpu==2.0.0-beta1) (0.7.1)\n",
            "Requirement already satisfied: termcolor>=1.1.0 in /usr/local/lib/python3.6/dist-packages (from tensorflow-gpu==2.0.0-beta1) (1.1.0)\n",
            "Requirement already satisfied: wheel>=0.26 in /usr/local/lib/python3.6/dist-packages (from tensorflow-gpu==2.0.0-beta1) (0.33.4)\n",
            "Requirement already satisfied: numpy<2.0,>=1.14.5 in /usr/local/lib/python3.6/dist-packages (from tensorflow-gpu==2.0.0-beta1) (1.16.4)\n",
            "Requirement already satisfied: tb-nightly<1.14.0a20190604,>=1.14.0a20190603 in /usr/local/lib/python3.6/dist-packages (from tensorflow-gpu==2.0.0-beta1) (1.14.0a20190603)\n",
            "Requirement already satisfied: keras-applications>=1.0.6 in /usr/local/lib/python3.6/dist-packages (from tensorflow-gpu==2.0.0-beta1) (1.0.8)\n",
            "Requirement already satisfied: google-pasta>=0.1.6 in /usr/local/lib/python3.6/dist-packages (from tensorflow-gpu==2.0.0-beta1) (0.1.7)\n",
            "Requirement already satisfied: keras-preprocessing>=1.0.5 in /usr/local/lib/python3.6/dist-packages (from tensorflow-gpu==2.0.0-beta1) (1.1.0)\n",
            "Requirement already satisfied: tf-estimator-nightly<1.14.0.dev2019060502,>=1.14.0.dev2019060501 in /usr/local/lib/python3.6/dist-packages (from tensorflow-gpu==2.0.0-beta1) (1.14.0.dev2019060501)\n",
            "Requirement already satisfied: wrapt>=1.11.1 in /usr/local/lib/python3.6/dist-packages (from tensorflow-gpu==2.0.0-beta1) (1.11.2)\n",
            "Requirement already satisfied: protobuf>=3.6.1 in /usr/local/lib/python3.6/dist-packages (from tensorflow-gpu==2.0.0-beta1) (3.7.1)\n",
            "Requirement already satisfied: six>=1.10.0 in /usr/local/lib/python3.6/dist-packages (from tensorflow-gpu==2.0.0-beta1) (1.12.0)\n",
            "Requirement already satisfied: grpcio>=1.8.6 in /usr/local/lib/python3.6/dist-packages (from tensorflow-gpu==2.0.0-beta1) (1.15.0)\n",
            "Requirement already satisfied: gast>=0.2.0 in /usr/local/lib/python3.6/dist-packages (from tensorflow-gpu==2.0.0-beta1) (0.2.2)\n",
            "Requirement already satisfied: werkzeug>=0.11.15 in /usr/local/lib/python3.6/dist-packages (from tb-nightly<1.14.0a20190604,>=1.14.0a20190603->tensorflow-gpu==2.0.0-beta1) (0.15.4)\n",
            "Requirement already satisfied: setuptools>=41.0.0 in /usr/local/lib/python3.6/dist-packages (from tb-nightly<1.14.0a20190604,>=1.14.0a20190603->tensorflow-gpu==2.0.0-beta1) (41.0.1)\n",
            "Requirement already satisfied: markdown>=2.6.8 in /usr/local/lib/python3.6/dist-packages (from tb-nightly<1.14.0a20190604,>=1.14.0a20190603->tensorflow-gpu==2.0.0-beta1) (3.1.1)\n",
            "Requirement already satisfied: h5py in /usr/local/lib/python3.6/dist-packages (from keras-applications>=1.0.6->tensorflow-gpu==2.0.0-beta1) (2.8.0)\n"
          ],
          "name": "stdout"
        }
      ]
    },
    {
      "cell_type": "code",
      "metadata": {
        "id": "KLtqVHuE-b3x",
        "colab_type": "code",
        "outputId": "741081a7-1a7b-4270-e67c-75a1a16c37fe",
        "colab": {
          "base_uri": "https://localhost:8080/",
          "height": 71
        }
      },
      "source": [
        "import tensorflow as tf\n",
        "tf.executing_eagerly()\n",
        "\n",
        "import math\n",
        "import matplotlib.pyplot as plt\n",
        "import numpy as np\n",
        "import pandas as pd\n",
        "import os\n",
        "import time\n",
        "\n",
        "from sklearn.model_selection import train_test_split, GridSearchCV\n",
        "from sklearn.externals import joblib\n",
        "from sklearn.metrics import confusion_matrix, classification_report\n",
        "from sklearn.utils.multiclass import unique_labels\n"
      ],
      "execution_count": 2,
      "outputs": [
        {
          "output_type": "stream",
          "text": [
            "/usr/local/lib/python3.6/dist-packages/sklearn/externals/joblib/__init__.py:15: DeprecationWarning: sklearn.externals.joblib is deprecated in 0.21 and will be removed in 0.23. Please import this functionality directly from joblib, which can be installed with: pip install joblib. If this warning is raised when loading pickled models, you may need to re-serialize those models with scikit-learn 0.21+.\n",
            "  warnings.warn(msg, category=DeprecationWarning)\n"
          ],
          "name": "stderr"
        }
      ]
    },
    {
      "cell_type": "markdown",
      "metadata": {
        "id": "zsVrLXZdNgG2",
        "colab_type": "text"
      },
      "source": [
        "# Initialize settings"
      ]
    },
    {
      "cell_type": "code",
      "metadata": {
        "id": "0zHOXk5h-mMh",
        "colab_type": "code",
        "colab": {}
      },
      "source": [
        "random_seed = 1\n",
        "n_samples = 15000\n",
        "\n",
        "names = [\n",
        "    'The Eiffel Tower',\n",
        "    'baseball',\n",
        "    'calculator',\n",
        "    'giraffe',\n",
        "    'moon',\n",
        "    'passport',\n",
        "    'snowflake',\n",
        "    'traffic light',\n",
        "    'yoga',\n",
        "    'zebra',\n",
        "]\n",
        "\n",
        "# 28x28 pixels, 1 channel\n",
        "IMAGE_SHAPE = (28, 28, 1)\n",
        "\n",
        "# Dataset settings\n",
        "BUFFER_SIZE = 1000\n",
        "BATCH_SIZE = 64\n",
        "\n",
        "# Size of Validation dataset\n",
        "VALIDATION_SIZE = 0.2"
      ],
      "execution_count": 0,
      "outputs": []
    },
    {
      "cell_type": "markdown",
      "metadata": {
        "id": "ugoQJgfnBRXA",
        "colab_type": "text"
      },
      "source": [
        "# Download load, and preprocess data\n",
        "\n",
        "Access data like described [here](https://github.com/googlecreativelab/quickdraw-dataset#preprocessed-dataset)"
      ]
    },
    {
      "cell_type": "code",
      "metadata": {
        "id": "tXmif_7_mZgg",
        "colab_type": "code",
        "colab": {
          "base_uri": "https://localhost:8080/",
          "height": 527
        },
        "outputId": "15b9f165-79d5-439e-dc54-b5ecf06d5987"
      },
      "source": [
        "for name in names:\n",
        "  !gsutil -m cp 'gs://quickdraw_dataset/full/numpy_bitmap/{name}.npy' ."
      ],
      "execution_count": 4,
      "outputs": [
        {
          "output_type": "stream",
          "text": [
            "Copying gs://quickdraw_dataset/full/numpy_bitmap/The Eiffel Tower.npy...\n",
            "- [1/1 files][100.8 MiB/100.8 MiB] 100% Done                                    \n",
            "Operation completed over 1 objects/100.8 MiB.                                    \n",
            "Copying gs://quickdraw_dataset/full/numpy_bitmap/baseball.npy...\n",
            "\\ [1/1 files][101.2 MiB/101.2 MiB] 100% Done                                    \n",
            "Operation completed over 1 objects/101.2 MiB.                                    \n",
            "Copying gs://quickdraw_dataset/full/numpy_bitmap/calculator.npy...\n",
            "- [1/1 files][ 96.0 MiB/ 96.0 MiB] 100% Done                                    \n",
            "Operation completed over 1 objects/96.0 MiB.                                     \n",
            "Copying gs://quickdraw_dataset/full/numpy_bitmap/giraffe.npy...\n",
            "- [1/1 files][ 95.1 MiB/ 95.1 MiB] 100% Done                                    \n",
            "Operation completed over 1 objects/95.1 MiB.                                     \n",
            "Copying gs://quickdraw_dataset/full/numpy_bitmap/moon.npy...\n",
            "- [1/1 files][ 91.0 MiB/ 91.0 MiB] 100% Done                                    \n",
            "Operation completed over 1 objects/91.0 MiB.                                     \n",
            "Copying gs://quickdraw_dataset/full/numpy_bitmap/passport.npy...\n",
            "- [1/1 files][112.4 MiB/112.4 MiB] 100% Done                                    \n",
            "Operation completed over 1 objects/112.4 MiB.                                    \n",
            "Copying gs://quickdraw_dataset/full/numpy_bitmap/snowflake.npy...\n",
            "- [1/1 files][ 87.2 MiB/ 87.2 MiB] 100% Done                                    \n",
            "Operation completed over 1 objects/87.2 MiB.                                     \n",
            "Copying gs://quickdraw_dataset/full/numpy_bitmap/traffic light.npy...\n",
            "- [1/1 files][ 93.7 MiB/ 93.7 MiB] 100% Done                                    \n",
            "Operation completed over 1 objects/93.7 MiB.                                     \n",
            "Copying gs://quickdraw_dataset/full/numpy_bitmap/yoga.npy...\n",
            "| [1/1 files][209.7 MiB/209.7 MiB] 100% Done                                    \n",
            "Operation completed over 1 objects/209.7 MiB.                                    \n",
            "Copying gs://quickdraw_dataset/full/numpy_bitmap/zebra.npy...\n",
            "\\ [1/1 files][108.1 MiB/108.1 MiB] 100% Done                                    \n",
            "Operation completed over 1 objects/108.1 MiB.                                    \n"
          ],
          "name": "stdout"
        }
      ]
    },
    {
      "cell_type": "markdown",
      "metadata": {
        "id": "KF2SB9SON1Dl",
        "colab_type": "text"
      },
      "source": [
        "Data loaders and processors pull all data files, reshape/scale data as necessary, and prepare data in a shuffled/batched tf.Dataset object."
      ]
    },
    {
      "cell_type": "code",
      "metadata": {
        "id": "tL0POOXW-085",
        "colab_type": "code",
        "colab": {}
      },
      "source": [
        "def get_data(names=None, nSamples=1000, randomSeed=1, datapath=\"./data/\",\n",
        "             datasetPrefix=\"full_numpy_bitmap_\", datasetExtension=\".npy\" ,\n",
        "             data_shape=None):\n",
        "    \"\"\"\n",
        "    Returns a Numpy array with the requested Quick, Draw! data from numpy data files, plus label->int map\n",
        "\n",
        "    :param names: Names of drawings to be loaded\n",
        "    :param nSamples: Number of samples to be loaded per named drawing\n",
        "    :param randomSeed: If not False, Random seed passed to np.random.seed\n",
        "    :param datapath: Path to Quick Draw drawing data (in .npy format)\n",
        "    :param datasetPrefix, datasetExtension: Prefix and extension on filenames.  Filenames to be constructed as:\n",
        "                                            datasetPrefix + name + datasetExtension\n",
        "\n",
        "    :return: Tuple of: \n",
        "        data: Numpy array of loaded data\n",
        "        labels: Numpy array of label integers\n",
        "        nameDict: Dictionary mapping label name (key) to label integer (value)\n",
        "    \"\"\"\n",
        "    datafiles = [os.path.join(datapath, datasetPrefix, name+datasetExtension) for name in names]\n",
        "    nameDict = {}\n",
        "    \n",
        "    if randomSeed:\n",
        "        np.random.seed(randomSeed)\n",
        "\n",
        "    classNumber = 0\n",
        "    for name, fname in zip(names, datafiles):\n",
        "        nameDict[name] = classNumber\n",
        "        print(f\"Loading {nSamples} samples for {name} from {fname}\")\n",
        "        temp = np.load(fname).astype('float32')\n",
        "        temp = temp[np.random.choice(temp.shape[0], nSamples, replace=False)]\n",
        "\n",
        "        try:\n",
        "            data = np.concatenate((data, temp))\n",
        "            labels = np.concatenate((labels, np.ones(temp.shape[0], dtype='int') * classNumber))\n",
        "        except NameError:\n",
        "            data = temp\n",
        "            labels = np.ones(temp.shape[0], dtype='int32') * classNumber\n",
        "        \n",
        "        classNumber += 1\n",
        "    return data, labels, nameDict\n",
        "\n",
        "  \n",
        "def prepare_data(data, image_shape=None, ):\n",
        "    if image_shape is None:\n",
        "        image_shape = IMAGE_SHAPE\n",
        "        \n",
        "    # Scale and shift about 0\n",
        "    data = data.copy() / (255.0 / 2) - 1\n",
        "    \n",
        "    # Reshape to image shape (adds color channel)\n",
        "    data = data.reshape(-1, *image_shape)\n",
        "    \n",
        "    return data\n",
        "  \n",
        "def prepare_dataset(data, labels, buffer_size=BUFFER_SIZE, batch_size=BATCH_SIZE):\n",
        "  dataset = tf.data.Dataset.from_tensor_slices((data, labels))\n",
        "\n",
        "  # Randomize, but don't buffer all the data\n",
        "  dataset = dataset.shuffle(buffer_size)\n",
        "\n",
        "  # Serve data up in batches\n",
        "  dataset = dataset.batch(batch_size)\n",
        "\n",
        "  return dataset"
      ],
      "execution_count": 0,
      "outputs": []
    },
    {
      "cell_type": "code",
      "metadata": {
        "id": "1tHxI47D-6Z_",
        "colab_type": "code",
        "outputId": "b7d6feb9-9fd9-4214-9a93-c9f2d15182d3",
        "colab": {
          "base_uri": "https://localhost:8080/",
          "height": 187
        }
      },
      "source": [
        "data, labels, label2int = get_data(names=names, nSamples=n_samples, \n",
        "                                   randomSeed=random_seed, datasetPrefix='',\n",
        "                                   datapath='./')\n",
        "data = prepare_data(data)\n",
        "\n",
        "# Use python 3.7's feature that dictionary keys are in insertion order\n",
        "# to make a reverse map\n",
        "int2label = [k for k in label2int.keys()]"
      ],
      "execution_count": 6,
      "outputs": [
        {
          "output_type": "stream",
          "text": [
            "Loading 15000 samples for The Eiffel Tower from ./The Eiffel Tower.npy\n",
            "Loading 15000 samples for baseball from ./baseball.npy\n",
            "Loading 15000 samples for calculator from ./calculator.npy\n",
            "Loading 15000 samples for giraffe from ./giraffe.npy\n",
            "Loading 15000 samples for moon from ./moon.npy\n",
            "Loading 15000 samples for passport from ./passport.npy\n",
            "Loading 15000 samples for snowflake from ./snowflake.npy\n",
            "Loading 15000 samples for traffic light from ./traffic light.npy\n",
            "Loading 15000 samples for yoga from ./yoga.npy\n",
            "Loading 15000 samples for zebra from ./zebra.npy\n"
          ],
          "name": "stdout"
        }
      ]
    },
    {
      "cell_type": "markdown",
      "metadata": {
        "id": "LU9rGOegOgnk",
        "colab_type": "text"
      },
      "source": [
        "Split the data into test and validation splits, then prepare into a tf.Dataset"
      ]
    },
    {
      "cell_type": "code",
      "metadata": {
        "id": "kUAIH5pl-6Wu",
        "colab_type": "code",
        "colab": {}
      },
      "source": [
        "X_train, X_val, y_train, y_val = train_test_split(data, labels, \n",
        "                                                  test_size=VALIDATION_SIZE, \n",
        "                                                  random_state=random_seed,\n",
        "                                                  stratify=labels)"
      ],
      "execution_count": 0,
      "outputs": []
    },
    {
      "cell_type": "code",
      "metadata": {
        "id": "Ckj-_PB--6T4",
        "colab_type": "code",
        "colab": {}
      },
      "source": [
        "dataset_train = prepare_dataset(X_train, y_train)\n",
        "dataset_val = prepare_dataset(X_val, y_val)"
      ],
      "execution_count": 0,
      "outputs": []
    },
    {
      "cell_type": "markdown",
      "metadata": {
        "id": "z_KygMGlOz1c",
        "colab_type": "text"
      },
      "source": [
        "# Visualize the data\n",
        "\n",
        "Take a look at some random images"
      ]
    },
    {
      "cell_type": "code",
      "metadata": {
        "id": "GT1PmH48-6Q8",
        "colab_type": "code",
        "colab": {}
      },
      "source": [
        "def draw_sketch(x, y=None, cmap='gray_r', ax=None):\n",
        "    if ax is None:\n",
        "        fig, ax = plt.subplots()\n",
        "    \n",
        "    # Only plot the first output channel...\n",
        "    if len(x.shape) < 3:\n",
        "        x = x.reshape(x.shape[0], x.shape[1], 1)\n",
        "    ax.imshow(x[:, :, 0], cmap=cmap)\n",
        "    \n",
        "    if y is not None:\n",
        "        ax.text(x.shape[0] * 0.1, x.shape[1] * 0.1, str(y), color='r')\n",
        "    \n",
        "    return ax\n",
        "\n",
        "def draw_sketches(x, y=None, subplot_shape=None, fig=None, savefig=None, **kwargs):\n",
        "    if subplot_shape is None:\n",
        "        # Get subplotShape by the next round square\n",
        "        temp = math.ceil(math.sqrt(x.shape[0]))\n",
        "        subplot_shape = (temp, temp)\n",
        "        \n",
        "    if fig is None:\n",
        "        fig, axs = plt.subplots(nrows=subplot_shape[0], ncols=subplot_shape[1], figsize=(subplot_shape[1]*2, subplot_shape[0]*2))\n",
        "        \n",
        "    for i in range(subplot_shape[0]):\n",
        "        for j in range(subplot_shape[1]):\n",
        "            k = i * subplot_shape[1] + j\n",
        "            \n",
        "            try:\n",
        "                thisy = y[k]\n",
        "            except TypeError:\n",
        "                thisy = None\n",
        "            \n",
        "            draw_sketch(x[k], thisy, ax=axs[i, j], **kwargs)\n",
        "            \n",
        "            axs[i, j].set_xticks([])\n",
        "            axs[i, j].set_yticks([])\n",
        "            \n",
        "    if savefig:\n",
        "        fig.savefig(savefig)\n",
        "    \n",
        "    return fig"
      ],
      "execution_count": 0,
      "outputs": []
    },
    {
      "cell_type": "code",
      "metadata": {
        "id": "Jrw3Wosh-6N_",
        "colab_type": "code",
        "outputId": "68ac9786-b407-472a-8085-1ba33811eeb8",
        "colab": {
          "base_uri": "https://localhost:8080/",
          "height": 582
        }
      },
      "source": [
        "# Some random drawings\n",
        "random_indices = np.random.choice(np.arange(data.shape[0]), size=25, replace=False)\n",
        "these_labels = [int2label[labels[i]] for i in random_indices]\n",
        "draw_sketches(x=data[random_indices], y=these_labels)\n",
        "plt.show()"
      ],
      "execution_count": 10,
      "outputs": [
        {
          "output_type": "display_data",
          "data": {
            "image/png": "[encoded data removed]",
            "text/plain": [
              "<Figure size 720x720 with 25 Axes>"
            ]
          },
          "metadata": {
            "tags": []
          }
        }
      ]
    },
    {
      "cell_type": "markdown",
      "metadata": {
        "id": "OEut0PDcO_s2",
        "colab_type": "text"
      },
      "source": [
        "# Build the CNN Classifier\n",
        "\n",
        "Define a constructor for the model which lets us vary hyperparameters as required (used for grid searching elsewhere)"
      ]
    },
    {
      "cell_type": "code",
      "metadata": {
        "id": "a5bt3czA_B3p",
        "colab_type": "code",
        "colab": {}
      },
      "source": [
        "def build_model(filters_1=16, kernel_size_1=None, dropout_1=0.25,\n",
        "                filters_2=16, kernel_size_2=None, dropout_2=0.50,\n",
        "                dense_layer_sizes=None, n_labels=1, output_activation=True):\n",
        "  \"\"\"\n",
        "  Retruns an uncompiled tf.keras.Model\n",
        "  \n",
        "  Model includes:\n",
        "    BatchNormalization between convolutional layers (cited to reduce training time\n",
        "    by similar concept to normalizing inputs for NN's\n",
        "    Dropout between convolutional layers to reduce overfitting\n",
        "    LeakyReLU activation for inner layers to avoid vanishing gradients and dead neurons\n",
        "    Optional activation on the output layer\n",
        "      None if we want to use this as input for a loss function that prefers inputs as logits\n",
        "      Sigmoid if we have a binary classification problem\n",
        "      Softmax if we have a multi-class classification problem\n",
        "  \"\"\"\n",
        "  \n",
        "  if dense_layer_sizes == None:\n",
        "    dense_layer_sizes = []\n",
        "\n",
        "  if kernel_size_1 == None:\n",
        "    kernel_size_1 = (5, 5)\n",
        "\n",
        "  if kernel_size_2 == None:\n",
        "    kernel_size_2 = (5, 5)\n",
        "\n",
        "  model = tf.keras.Sequential()\n",
        "\n",
        "  model.add(tf.keras.layers.Conv2D(filters=filters_1, kernel_size=kernel_size_1,\n",
        "                                   strides=(1, 1), padding='same',\n",
        "                                   input_shape=IMAGE_SHAPE))\n",
        "  model.add(tf.keras.layers.MaxPool2D(pool_size=(2, 2)))\n",
        "  model.add(tf.keras.layers.BatchNormalization())\n",
        "  model.add(tf.keras.layers.Dropout(dropout_1))\n",
        "  model.add(tf.keras.layers.LeakyReLU())\n",
        "\n",
        "  model.add(tf.keras.layers.Conv2D(filters=filters_2, kernel_size=kernel_size_2, \n",
        "                                   strides=(1, 1), padding='same') )\n",
        "  model.add(tf.keras.layers.MaxPool2D(pool_size=(2, 2)))\n",
        "  model.add(tf.keras.layers.BatchNormalization())\n",
        "  model.add(tf.keras.layers.Dropout(dropout_2))\n",
        "  model.add(tf.keras.layers.LeakyReLU())\n",
        "\n",
        "  model.add(tf.keras.layers.Flatten())\n",
        "\n",
        "  for size in dense_layer_sizes:\n",
        "    model.add(tf.keras.layers.Dense(size))\n",
        "    model.add(tf.keras.layers.LeakyReLU())\n",
        "\n",
        "\n",
        "  if n_labels == 2:\n",
        "    print(f'Detected binary classification - overwriting n_labels to set to 1 (was {n_labels})')\n",
        "    n_labels = 1\n",
        "\n",
        "  if output_activation is True:\n",
        "    if n_labels == 1:\n",
        "    # Binary classification so use sigmoid if applying activation\n",
        "      output_activation = 'sigmoid'\n",
        "    else:\n",
        "      # Multiclass classification so use softmax\n",
        "      output_activation = 'softmax'\n",
        "  elif not output_activation:\n",
        "    output_activation = None\n",
        "  model.add(tf.keras.layers.Dense(n_labels, activation=output_activation))\n",
        "\n",
        "  return model"
      ],
      "execution_count": 0,
      "outputs": []
    },
    {
      "cell_type": "code",
      "metadata": {
        "id": "T8jqBesu_Ayl",
        "colab_type": "code",
        "outputId": "b0b60b7d-be26-4cd7-d147-b46ca9ede22b",
        "colab": {
          "base_uri": "https://localhost:8080/",
          "height": 629
        }
      },
      "source": [
        "# Note that parameters were chosen through a binary classification grid search for parameters\n",
        "# done separately\n",
        "params = {\n",
        "    'filters_1': 16,\n",
        "    'kernel_size_1': (5, 5),\n",
        "    'dropout_1': 0.25,\n",
        "    'filters_2': 16,\n",
        "    'kernel_size_2': (5, 5),\n",
        "    'dropout_2': 0.5,\n",
        "    'dense_layer_sizes': [16],\n",
        "}\n",
        "\n",
        "model = build_model(**params, n_labels=len(label2int), output_activation=True)\n",
        "model.summary()\n",
        "\n",
        "\n",
        "if len(names) <= 2:\n",
        "  loss = 'binary_crossentropy'\n",
        "else:\n",
        "  # If we encode with labels ([0, 1, 2, ....]) then we use sparse_categorical_crossentropy\n",
        "  loss = 'sparse_categorical_crossentropy'\n",
        "  # If we encode with one-hot vectors ([[0, 0, 1, ... 0], [0, 1, 0, ... 0], ...]) then\n",
        "  # we use categorical_crossentropy\n",
        "#   loss = 'categorical_crossentropy'\n",
        "  \n",
        "model.compile(tf.keras.optimizers.Adam(),\n",
        "              loss=loss,\n",
        "             metrics=['accuracy'])\n",
        "\n",
        "callbacks = [\n",
        "    tf.keras.callbacks.EarlyStopping(monitor='val_accuracy',\n",
        "                                     min_delta=0,\n",
        "                                     patience=10),\n",
        "            ]"
      ],
      "execution_count": 12,
      "outputs": [
        {
          "output_type": "stream",
          "text": [
            "Model: \"sequential\"\n",
            "_________________________________________________________________\n",
            "Layer (type)                 Output Shape              Param #   \n",
            "=================================================================\n",
            "conv2d (Conv2D)              (None, 28, 28, 16)        416       \n",
            "_________________________________________________________________\n",
            "max_pooling2d (MaxPooling2D) (None, 14, 14, 16)        0         \n",
            "_________________________________________________________________\n",
            "batch_normalization (BatchNo (None, 14, 14, 16)        64        \n",
            "_________________________________________________________________\n",
            "dropout (Dropout)            (None, 14, 14, 16)        0         \n",
            "_________________________________________________________________\n",
            "leaky_re_lu (LeakyReLU)      (None, 14, 14, 16)        0         \n",
            "_________________________________________________________________\n",
            "conv2d_1 (Conv2D)            (None, 14, 14, 16)        6416      \n",
            "_________________________________________________________________\n",
            "max_pooling2d_1 (MaxPooling2 (None, 7, 7, 16)          0         \n",
            "_________________________________________________________________\n",
            "batch_normalization_1 (Batch (None, 7, 7, 16)          64        \n",
            "_________________________________________________________________\n",
            "dropout_1 (Dropout)          (None, 7, 7, 16)          0         \n",
            "_________________________________________________________________\n",
            "leaky_re_lu_1 (LeakyReLU)    (None, 7, 7, 16)          0         \n",
            "_________________________________________________________________\n",
            "flatten (Flatten)            (None, 784)               0         \n",
            "_________________________________________________________________\n",
            "dense (Dense)                (None, 16)                12560     \n",
            "_________________________________________________________________\n",
            "leaky_re_lu_2 (LeakyReLU)    (None, 16)                0         \n",
            "_________________________________________________________________\n",
            "dense_1 (Dense)              (None, 10)                170       \n",
            "=================================================================\n",
            "Total params: 19,690\n",
            "Trainable params: 19,626\n",
            "Non-trainable params: 64\n",
            "_________________________________________________________________\n"
          ],
          "name": "stdout"
        }
      ]
    },
    {
      "cell_type": "markdown",
      "metadata": {
        "id": "wRT9fatdRxkp",
        "colab_type": "text"
      },
      "source": [
        "# Train the model"
      ]
    },
    {
      "cell_type": "code",
      "metadata": {
        "id": "Vf6whIl4_Ao9",
        "colab_type": "code",
        "outputId": "455eeb8d-580a-4bc2-de56-9ab1850682e4",
        "colab": {
          "base_uri": "https://localhost:8080/",
          "height": 1000
        }
      },
      "source": [
        "%%time\n",
        "model.fit(x=dataset_train,\n",
        "          validation_data=dataset_val,\n",
        "          epochs=500,\n",
        "          steps_per_epoch=None,\n",
        "          callbacks=callbacks\n",
        "          )"
      ],
      "execution_count": 13,
      "outputs": [
        {
          "output_type": "stream",
          "text": [
            "WARNING: Logging before flag parsing goes to stderr.\n",
            "W0711 19:01:30.341227 139761488930688 deprecation.py:323] From /usr/local/lib/python3.6/dist-packages/tensorflow/python/ops/math_grad.py:1250: add_dispatch_support.<locals>.wrapper (from tensorflow.python.ops.array_ops) is deprecated and will be removed in a future version.\n",
            "Instructions for updating:\n",
            "Use tf.where in 2.0, which has the same broadcast rule as np.where\n"
          ],
          "name": "stderr"
        },
        {
          "output_type": "stream",
          "text": [
            "Epoch 1/500\n",
            "1875/1875 [==============================] - 22s 12ms/step - loss: 0.5776 - accuracy: 0.8202 - val_loss: 0.3650 - val_accuracy: 0.8893\n",
            "Epoch 2/500\n",
            "1875/1875 [==============================] - 19s 10ms/step - loss: 0.4089 - accuracy: 0.8719 - val_loss: 0.3327 - val_accuracy: 0.8990\n",
            "Epoch 3/500\n",
            "1875/1875 [==============================] - 19s 10ms/step - loss: 0.3780 - accuracy: 0.8816 - val_loss: 0.3092 - val_accuracy: 0.9059\n",
            "Epoch 4/500\n",
            "1875/1875 [==============================] - 19s 10ms/step - loss: 0.3572 - accuracy: 0.8887 - val_loss: 0.2985 - val_accuracy: 0.9093\n",
            "Epoch 5/500\n",
            "1875/1875 [==============================] - 19s 10ms/step - loss: 0.3458 - accuracy: 0.8930 - val_loss: 0.2927 - val_accuracy: 0.9101\n",
            "Epoch 6/500\n",
            "1875/1875 [==============================] - 19s 10ms/step - loss: 0.3361 - accuracy: 0.8955 - val_loss: 0.2794 - val_accuracy: 0.9160\n",
            "Epoch 7/500\n",
            "1875/1875 [==============================] - 19s 10ms/step - loss: 0.3300 - accuracy: 0.8980 - val_loss: 0.2726 - val_accuracy: 0.9172\n",
            "Epoch 8/500\n",
            "1875/1875 [==============================] - 19s 10ms/step - loss: 0.3241 - accuracy: 0.8994 - val_loss: 0.2645 - val_accuracy: 0.9206\n",
            "Epoch 9/500\n",
            "1875/1875 [==============================] - 19s 10ms/step - loss: 0.3191 - accuracy: 0.9000 - val_loss: 0.2652 - val_accuracy: 0.9193\n",
            "Epoch 10/500\n",
            "1875/1875 [==============================] - 19s 10ms/step - loss: 0.3144 - accuracy: 0.9031 - val_loss: 0.2601 - val_accuracy: 0.9213\n",
            "Epoch 11/500\n",
            "1875/1875 [==============================] - 19s 10ms/step - loss: 0.3128 - accuracy: 0.9031 - val_loss: 0.2588 - val_accuracy: 0.9226\n",
            "Epoch 12/500\n",
            "1875/1875 [==============================] - 19s 10ms/step - loss: 0.3088 - accuracy: 0.9045 - val_loss: 0.2586 - val_accuracy: 0.9218\n",
            "Epoch 13/500\n",
            "1875/1875 [==============================] - 19s 10ms/step - loss: 0.3057 - accuracy: 0.9054 - val_loss: 0.2602 - val_accuracy: 0.9229\n",
            "Epoch 14/500\n",
            "1875/1875 [==============================] - 19s 10ms/step - loss: 0.3052 - accuracy: 0.9054 - val_loss: 0.2550 - val_accuracy: 0.9229\n",
            "Epoch 15/500\n",
            "1875/1875 [==============================] - 20s 10ms/step - loss: 0.3032 - accuracy: 0.9060 - val_loss: 0.2512 - val_accuracy: 0.9238\n",
            "Epoch 16/500\n",
            "1875/1875 [==============================] - 19s 10ms/step - loss: 0.3018 - accuracy: 0.9065 - val_loss: 0.2574 - val_accuracy: 0.9214\n",
            "Epoch 17/500\n",
            "1875/1875 [==============================] - 19s 10ms/step - loss: 0.3006 - accuracy: 0.9071 - val_loss: 0.2505 - val_accuracy: 0.9240\n",
            "Epoch 18/500\n",
            "1875/1875 [==============================] - 19s 10ms/step - loss: 0.2990 - accuracy: 0.9073 - val_loss: 0.2523 - val_accuracy: 0.9237\n",
            "Epoch 19/500\n",
            "1875/1875 [==============================] - 19s 10ms/step - loss: 0.2972 - accuracy: 0.9077 - val_loss: 0.2555 - val_accuracy: 0.9224\n",
            "Epoch 20/500\n",
            "1875/1875 [==============================] - 19s 10ms/step - loss: 0.2961 - accuracy: 0.9082 - val_loss: 0.2460 - val_accuracy: 0.9256\n",
            "Epoch 21/500\n",
            "1875/1875 [==============================] - 19s 10ms/step - loss: 0.2939 - accuracy: 0.9090 - val_loss: 0.2477 - val_accuracy: 0.9248\n",
            "Epoch 22/500\n",
            "1875/1875 [==============================] - 19s 10ms/step - loss: 0.2930 - accuracy: 0.9097 - val_loss: 0.2456 - val_accuracy: 0.9257\n",
            "Epoch 23/500\n",
            "1875/1875 [==============================] - 19s 10ms/step - loss: 0.2924 - accuracy: 0.9091 - val_loss: 0.2472 - val_accuracy: 0.9251\n",
            "Epoch 24/500\n",
            "1875/1875 [==============================] - 19s 10ms/step - loss: 0.2904 - accuracy: 0.9100 - val_loss: 0.2448 - val_accuracy: 0.9253\n",
            "Epoch 25/500\n",
            "1875/1875 [==============================] - 19s 10ms/step - loss: 0.2917 - accuracy: 0.9101 - val_loss: 0.2445 - val_accuracy: 0.9263\n",
            "Epoch 26/500\n",
            "1875/1875 [==============================] - 19s 10ms/step - loss: 0.2916 - accuracy: 0.9100 - val_loss: 0.2438 - val_accuracy: 0.9263\n",
            "Epoch 27/500\n",
            "1875/1875 [==============================] - 19s 10ms/step - loss: 0.2903 - accuracy: 0.9098 - val_loss: 0.2479 - val_accuracy: 0.9241\n",
            "Epoch 28/500\n",
            "1875/1875 [==============================] - 19s 10ms/step - loss: 0.2896 - accuracy: 0.9104 - val_loss: 0.2430 - val_accuracy: 0.9258\n",
            "Epoch 29/500\n",
            "1875/1875 [==============================] - 19s 10ms/step - loss: 0.2888 - accuracy: 0.9108 - val_loss: 0.2427 - val_accuracy: 0.9267\n",
            "Epoch 30/500\n",
            "1875/1875 [==============================] - 19s 10ms/step - loss: 0.2870 - accuracy: 0.9105 - val_loss: 0.2429 - val_accuracy: 0.9263\n",
            "Epoch 31/500\n",
            "1875/1875 [==============================] - 19s 10ms/step - loss: 0.2882 - accuracy: 0.9109 - val_loss: 0.2406 - val_accuracy: 0.9270\n",
            "Epoch 32/500\n",
            "1875/1875 [==============================] - 19s 10ms/step - loss: 0.2868 - accuracy: 0.9109 - val_loss: 0.2458 - val_accuracy: 0.9255\n",
            "Epoch 33/500\n",
            "1875/1875 [==============================] - 18s 10ms/step - loss: 0.2852 - accuracy: 0.9122 - val_loss: 0.2404 - val_accuracy: 0.9271\n",
            "Epoch 34/500\n",
            "1875/1875 [==============================] - 19s 10ms/step - loss: 0.2860 - accuracy: 0.9114 - val_loss: 0.2416 - val_accuracy: 0.9267\n",
            "Epoch 35/500\n",
            "1875/1875 [==============================] - 19s 10ms/step - loss: 0.2852 - accuracy: 0.9111 - val_loss: 0.2419 - val_accuracy: 0.9261\n",
            "Epoch 36/500\n",
            "1875/1875 [==============================] - 19s 10ms/step - loss: 0.2865 - accuracy: 0.9109 - val_loss: 0.2435 - val_accuracy: 0.9268\n",
            "Epoch 37/500\n",
            "1875/1875 [==============================] - 19s 10ms/step - loss: 0.2845 - accuracy: 0.9117 - val_loss: 0.2390 - val_accuracy: 0.9272\n",
            "Epoch 38/500\n",
            "1875/1875 [==============================] - 19s 10ms/step - loss: 0.2825 - accuracy: 0.9118 - val_loss: 0.2402 - val_accuracy: 0.9270\n",
            "Epoch 39/500\n",
            "1875/1875 [==============================] - 19s 10ms/step - loss: 0.2836 - accuracy: 0.9119 - val_loss: 0.2406 - val_accuracy: 0.9261\n",
            "Epoch 40/500\n",
            "1875/1875 [==============================] - 19s 10ms/step - loss: 0.2831 - accuracy: 0.9117 - val_loss: 0.2389 - val_accuracy: 0.9275\n",
            "Epoch 41/500\n",
            "1875/1875 [==============================] - 19s 10ms/step - loss: 0.2834 - accuracy: 0.9127 - val_loss: 0.2409 - val_accuracy: 0.9269\n",
            "Epoch 42/500\n",
            "1875/1875 [==============================] - 19s 10ms/step - loss: 0.2822 - accuracy: 0.9125 - val_loss: 0.2367 - val_accuracy: 0.9283\n",
            "Epoch 43/500\n",
            "1875/1875 [==============================] - 19s 10ms/step - loss: 0.2819 - accuracy: 0.9117 - val_loss: 0.2455 - val_accuracy: 0.9242\n",
            "Epoch 44/500\n",
            "1875/1875 [==============================] - 19s 10ms/step - loss: 0.2815 - accuracy: 0.9127 - val_loss: 0.2384 - val_accuracy: 0.9281\n",
            "Epoch 45/500\n",
            "1875/1875 [==============================] - 19s 10ms/step - loss: 0.2824 - accuracy: 0.9120 - val_loss: 0.2439 - val_accuracy: 0.9261\n",
            "Epoch 46/500\n",
            "1875/1875 [==============================] - 19s 10ms/step - loss: 0.2821 - accuracy: 0.9120 - val_loss: 0.2422 - val_accuracy: 0.9268\n",
            "Epoch 47/500\n",
            "1875/1875 [==============================] - 19s 10ms/step - loss: 0.2808 - accuracy: 0.9137 - val_loss: 0.2392 - val_accuracy: 0.9278\n",
            "Epoch 48/500\n",
            "1875/1875 [==============================] - 19s 10ms/step - loss: 0.2825 - accuracy: 0.9130 - val_loss: 0.2378 - val_accuracy: 0.9280\n",
            "Epoch 49/500\n",
            "1875/1875 [==============================] - 19s 10ms/step - loss: 0.2796 - accuracy: 0.9136 - val_loss: 0.2370 - val_accuracy: 0.9277\n",
            "Epoch 50/500\n",
            "1875/1875 [==============================] - 19s 10ms/step - loss: 0.2811 - accuracy: 0.9132 - val_loss: 0.2364 - val_accuracy: 0.9281\n",
            "Epoch 51/500\n",
            "1875/1875 [==============================] - 19s 10ms/step - loss: 0.2801 - accuracy: 0.9130 - val_loss: 0.2409 - val_accuracy: 0.9273\n",
            "Epoch 52/500\n",
            "1875/1875 [==============================] - 19s 10ms/step - loss: 0.2785 - accuracy: 0.9135 - val_loss: 0.2363 - val_accuracy: 0.9290\n",
            "Epoch 53/500\n",
            "1875/1875 [==============================] - 19s 10ms/step - loss: 0.2801 - accuracy: 0.9128 - val_loss: 0.2395 - val_accuracy: 0.9276\n",
            "Epoch 54/500\n",
            "1875/1875 [==============================] - 19s 10ms/step - loss: 0.2774 - accuracy: 0.9140 - val_loss: 0.2391 - val_accuracy: 0.9282\n",
            "Epoch 55/500\n",
            "1875/1875 [==============================] - 19s 10ms/step - loss: 0.2788 - accuracy: 0.9137 - val_loss: 0.2395 - val_accuracy: 0.9277\n",
            "Epoch 56/500\n",
            "1875/1875 [==============================] - 19s 10ms/step - loss: 0.2763 - accuracy: 0.9141 - val_loss: 0.2357 - val_accuracy: 0.9288\n",
            "Epoch 57/500\n",
            "1875/1875 [==============================] - 19s 10ms/step - loss: 0.2781 - accuracy: 0.9138 - val_loss: 0.2433 - val_accuracy: 0.9260\n",
            "Epoch 58/500\n",
            "1875/1875 [==============================] - 19s 10ms/step - loss: 0.2782 - accuracy: 0.9142 - val_loss: 0.2340 - val_accuracy: 0.9293\n",
            "Epoch 59/500\n",
            "1875/1875 [==============================] - 18s 10ms/step - loss: 0.2793 - accuracy: 0.9131 - val_loss: 0.2409 - val_accuracy: 0.9272\n",
            "Epoch 60/500\n",
            "1875/1875 [==============================] - 19s 10ms/step - loss: 0.2763 - accuracy: 0.9141 - val_loss: 0.2385 - val_accuracy: 0.9275\n",
            "Epoch 61/500\n",
            "1875/1875 [==============================] - 19s 10ms/step - loss: 0.2766 - accuracy: 0.9141 - val_loss: 0.2361 - val_accuracy: 0.9288\n",
            "Epoch 62/500\n",
            "1875/1875 [==============================] - 18s 10ms/step - loss: 0.2758 - accuracy: 0.9142 - val_loss: 0.2343 - val_accuracy: 0.9299\n",
            "Epoch 63/500\n",
            "1875/1875 [==============================] - 18s 10ms/step - loss: 0.2764 - accuracy: 0.9144 - val_loss: 0.2378 - val_accuracy: 0.9283\n",
            "Epoch 64/500\n",
            "1875/1875 [==============================] - 18s 10ms/step - loss: 0.2756 - accuracy: 0.9147 - val_loss: 0.2365 - val_accuracy: 0.9285\n",
            "Epoch 65/500\n",
            "1875/1875 [==============================] - 19s 10ms/step - loss: 0.2755 - accuracy: 0.9148 - val_loss: 0.2387 - val_accuracy: 0.9278\n",
            "Epoch 66/500\n",
            "1875/1875 [==============================] - 19s 10ms/step - loss: 0.2752 - accuracy: 0.9143 - val_loss: 0.2380 - val_accuracy: 0.9280\n",
            "Epoch 67/500\n",
            "1875/1875 [==============================] - 20s 10ms/step - loss: 0.2769 - accuracy: 0.9147 - val_loss: 0.2364 - val_accuracy: 0.9284\n",
            "Epoch 68/500\n",
            "1875/1875 [==============================] - 19s 10ms/step - loss: 0.2760 - accuracy: 0.9148 - val_loss: 0.2361 - val_accuracy: 0.9290\n",
            "Epoch 69/500\n",
            "1875/1875 [==============================] - 19s 10ms/step - loss: 0.2765 - accuracy: 0.9136 - val_loss: 0.2340 - val_accuracy: 0.9300\n",
            "Epoch 70/500\n",
            "1875/1875 [==============================] - 19s 10ms/step - loss: 0.2749 - accuracy: 0.9150 - val_loss: 0.2349 - val_accuracy: 0.9293\n",
            "Epoch 71/500\n",
            "1875/1875 [==============================] - 18s 10ms/step - loss: 0.2745 - accuracy: 0.9154 - val_loss: 0.2363 - val_accuracy: 0.9287\n",
            "Epoch 72/500\n",
            "1875/1875 [==============================] - 18s 10ms/step - loss: 0.2763 - accuracy: 0.9140 - val_loss: 0.2360 - val_accuracy: 0.9295\n",
            "Epoch 73/500\n",
            "1875/1875 [==============================] - 19s 10ms/step - loss: 0.2755 - accuracy: 0.9144 - val_loss: 0.2316 - val_accuracy: 0.9305\n",
            "Epoch 74/500\n",
            "1875/1875 [==============================] - 18s 10ms/step - loss: 0.2751 - accuracy: 0.9149 - val_loss: 0.2323 - val_accuracy: 0.9307\n",
            "Epoch 75/500\n",
            "1875/1875 [==============================] - 18s 10ms/step - loss: 0.2742 - accuracy: 0.9148 - val_loss: 0.2341 - val_accuracy: 0.9292\n",
            "Epoch 76/500\n",
            "1875/1875 [==============================] - 18s 10ms/step - loss: 0.2754 - accuracy: 0.9153 - val_loss: 0.2329 - val_accuracy: 0.9298\n",
            "Epoch 77/500\n",
            "1875/1875 [==============================] - 18s 10ms/step - loss: 0.2738 - accuracy: 0.9154 - val_loss: 0.2352 - val_accuracy: 0.9290\n",
            "Epoch 78/500\n",
            "1875/1875 [==============================] - 19s 10ms/step - loss: 0.2741 - accuracy: 0.9153 - val_loss: 0.2341 - val_accuracy: 0.9301\n",
            "Epoch 79/500\n",
            "1875/1875 [==============================] - 18s 10ms/step - loss: 0.2749 - accuracy: 0.9146 - val_loss: 0.2345 - val_accuracy: 0.9297\n",
            "Epoch 80/500\n",
            "1875/1875 [==============================] - 18s 10ms/step - loss: 0.2728 - accuracy: 0.9155 - val_loss: 0.2304 - val_accuracy: 0.9310\n",
            "Epoch 81/500\n",
            "1875/1875 [==============================] - 18s 10ms/step - loss: 0.2744 - accuracy: 0.9148 - val_loss: 0.2374 - val_accuracy: 0.9284\n",
            "Epoch 82/500\n",
            "1875/1875 [==============================] - 18s 10ms/step - loss: 0.2753 - accuracy: 0.9148 - val_loss: 0.2320 - val_accuracy: 0.9300\n",
            "Epoch 83/500\n",
            "1875/1875 [==============================] - 19s 10ms/step - loss: 0.2739 - accuracy: 0.9153 - val_loss: 0.2323 - val_accuracy: 0.9305\n",
            "Epoch 84/500\n",
            "1875/1875 [==============================] - 18s 10ms/step - loss: 0.2736 - accuracy: 0.9150 - val_loss: 0.2380 - val_accuracy: 0.9278\n",
            "Epoch 85/500\n",
            "1875/1875 [==============================] - 18s 10ms/step - loss: 0.2734 - accuracy: 0.9150 - val_loss: 0.2327 - val_accuracy: 0.9302\n",
            "Epoch 86/500\n",
            "1875/1875 [==============================] - 18s 10ms/step - loss: 0.2723 - accuracy: 0.9159 - val_loss: 0.2334 - val_accuracy: 0.9297\n",
            "Epoch 87/500\n",
            "1875/1875 [==============================] - 18s 10ms/step - loss: 0.2711 - accuracy: 0.9158 - val_loss: 0.2362 - val_accuracy: 0.9297\n",
            "Epoch 88/500\n",
            "1875/1875 [==============================] - 19s 10ms/step - loss: 0.2736 - accuracy: 0.9149 - val_loss: 0.2347 - val_accuracy: 0.9297\n",
            "Epoch 89/500\n",
            "1875/1875 [==============================] - 19s 10ms/step - loss: 0.2731 - accuracy: 0.9154 - val_loss: 0.2350 - val_accuracy: 0.9290\n",
            "Epoch 90/500\n",
            "1875/1875 [==============================] - 19s 10ms/step - loss: 0.2732 - accuracy: 0.9152 - val_loss: 0.2323 - val_accuracy: 0.9303\n",
            "CPU times: user 35min 33s, sys: 3min 42s, total: 39min 16s\n",
            "Wall time: 28min 46s\n"
          ],
          "name": "stdout"
        },
        {
          "output_type": "execute_result",
          "data": {
            "text/plain": [
              "<tensorflow.python.keras.callbacks.History at 0x7f1c402fdef0>"
            ]
          },
          "metadata": {
            "tags": []
          },
          "execution_count": 13
        }
      ]
    },
    {
      "cell_type": "markdown",
      "metadata": {
        "id": "ECRhGzXkh481",
        "colab_type": "text"
      },
      "source": [
        "# Look at the predictions/results"
      ]
    },
    {
      "cell_type": "markdown",
      "metadata": {
        "id": "rEp6i742Rvyo",
        "colab_type": "text"
      },
      "source": [
        "Training gives us ~93% accuracy on the validation data.\n",
        "\n",
        "Looking at the classification report, we can see all classes are classified reasonably well although some are better than others"
      ]
    },
    {
      "cell_type": "code",
      "metadata": {
        "id": "3Oe9cCHSVQmk",
        "colab_type": "code",
        "colab": {
          "base_uri": "https://localhost:8080/",
          "height": 306
        },
        "outputId": "8c2e55c3-17b7-4339-db54-6b57371c029e"
      },
      "source": [
        "# model.predict returns the softmax results for all categories.  Do an argmax across each row to get the actual chosen category\n",
        "y_pred = model.predict(X_val).argmax(axis=-1)\n",
        "print(classification_report(y_val, y_pred, target_names=names))"
      ],
      "execution_count": 15,
      "outputs": [
        {
          "output_type": "stream",
          "text": [
            "                  precision    recall  f1-score   support\n",
            "\n",
            "The Eiffel Tower       0.97      0.97      0.97      3000\n",
            "        baseball       0.93      0.92      0.92      3000\n",
            "      calculator       0.92      0.95      0.94      3000\n",
            "         giraffe       0.97      0.95      0.96      3000\n",
            "            moon       0.94      0.92      0.93      3000\n",
            "        passport       0.91      0.87      0.89      3000\n",
            "       snowflake       0.94      0.95      0.95      3000\n",
            "   traffic light       0.96      0.94      0.95      3000\n",
            "            yoga       0.85      0.87      0.86      3000\n",
            "           zebra       0.92      0.95      0.94      3000\n",
            "\n",
            "        accuracy                           0.93     30000\n",
            "       macro avg       0.93      0.93      0.93     30000\n",
            "    weighted avg       0.93      0.93      0.93     30000\n",
            "\n"
          ],
          "name": "stdout"
        }
      ]
    },
    {
      "cell_type": "markdown",
      "metadata": {
        "id": "f_8hcLQFV687",
        "colab_type": "text"
      },
      "source": [
        "For example, the Eiffel Tower and Giraffes both have very high scores, whereas passports and yoga are lower (although still not bad...).  Looking at the confusion matrix we can see some interesting trends within the mistakes..."
      ]
    },
    {
      "cell_type": "code",
      "metadata": {
        "id": "zV6_qCRyTFks",
        "colab_type": "code",
        "colab": {}
      },
      "source": [
        "def plot_confusion_matrix(y_true, y_pred, classes,\n",
        "                          normalize=False,\n",
        "                          title=None,\n",
        "                          cmap=plt.cm.Blues):\n",
        "    \"\"\"\n",
        "    This function prints and plots the confusion matrix.\n",
        "    \n",
        "    (Slightly modified from https://scikit-learn.org/stable/auto_examples/model_selection/plot_confusion_matrix.html#sphx-glr-auto-examples-model-selection-plot-confusion-matrix-py)\n",
        "    \n",
        "    Normalization can be applied by setting `normalize=True`.\n",
        "    \"\"\"\n",
        "    if not title:\n",
        "        if normalize:\n",
        "            title = 'Normalized confusion matrix'\n",
        "        else:\n",
        "            title = 'Confusion matrix, without normalization'\n",
        "\n",
        "    classes = np.asarray(classes)\n",
        "            \n",
        "            # Compute confusion matrix\n",
        "    cm = confusion_matrix(y_true, y_pred)\n",
        "    # Only use the labels that appear in the data\n",
        "    classes = classes[unique_labels(y_true, y_pred)]\n",
        "    if normalize:\n",
        "        cm = cm.astype('float') / cm.sum(axis=1)[:, np.newaxis]\n",
        "        print(\"Normalized confusion matrix\")\n",
        "    else:\n",
        "        print('Confusion matrix, without normalization')\n",
        "\n",
        "    fig, ax = plt.subplots(figsize=(8, 6))\n",
        "    im = ax.imshow(cm, interpolation='nearest', cmap=cmap)\n",
        "    ax.figure.colorbar(im, ax=ax)\n",
        "    # We want to show all ticks...\n",
        "    ax.set(xticks=np.arange(cm.shape[1]),\n",
        "           yticks=np.arange(cm.shape[0]),\n",
        "           # ... and label them with the respective list entries\n",
        "           xticklabels=classes, yticklabels=classes,\n",
        "           title=title,\n",
        "           ylabel='True label',\n",
        "           xlabel='Predicted label')\n",
        "\n",
        "    # Rotate the tick labels and set their alignment.\n",
        "    plt.setp(ax.get_xticklabels(), rotation=45, ha=\"right\",\n",
        "             rotation_mode=\"anchor\")\n",
        "\n",
        "    # Loop over data dimensions and create text annotations.\n",
        "    fmt = '.2f' if normalize else 'd'\n",
        "    thresh = cm.max() / 2.\n",
        "    for i in range(cm.shape[0]):\n",
        "        for j in range(cm.shape[1]):\n",
        "            ax.text(j, i, format(cm[i, j], fmt),\n",
        "                    ha=\"center\", va=\"center\",\n",
        "                    color=\"white\" if cm[i, j] > thresh else \"black\")\n",
        "    fig.tight_layout()\n",
        "    return ax\n",
        "\n"
      ],
      "execution_count": 0,
      "outputs": []
    },
    {
      "cell_type": "code",
      "metadata": {
        "id": "b5BfW5GQTd3M",
        "colab_type": "code",
        "colab": {
          "base_uri": "https://localhost:8080/",
          "height": 475
        },
        "outputId": "09344e8e-f31c-4826-9658-8bc4a6baac6d"
      },
      "source": [
        "plot_confusion_matrix(y_val, y_pred, int2label)"
      ],
      "execution_count": 17,
      "outputs": [
        {
          "output_type": "stream",
          "text": [
            "Confusion matrix, without normalization\n"
          ],
          "name": "stdout"
        },
        {
          "output_type": "execute_result",
          "data": {
            "text/plain": [
              "<matplotlib.axes._subplots.AxesSubplot at 0x7f1becf1deb8>"
            ]
          },
          "metadata": {
            "tags": []
          },
          "execution_count": 17
        },
        {
          "output_type": "display_data",
          "data": {
            "image/png": "[encoded data removed]",
            "text/plain": [
              "<Figure size 576x432 with 2 Axes>"
            ]
          },
          "metadata": {
            "tags": []
          }
        }
      ]
    },
    {
      "cell_type": "markdown",
      "metadata": {
        "id": "hw15zDJLW4Sv",
        "colab_type": "text"
      },
      "source": [
        "Interestingly, a fair number of passports were classified as calculators (reading across the passport row we see how many actual passports were classified as each item (column)).  Meanwhile, yoga was mistaken for almost everything..."
      ]
    }
  ]
}